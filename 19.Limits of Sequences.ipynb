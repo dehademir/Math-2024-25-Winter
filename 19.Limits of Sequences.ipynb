{
  "cells": [
    {
      "cell_type": "markdown",
      "metadata": {
        "id": "view-in-github",
        "colab_type": "text"
      },
      "source": [
        "<a href=\"https://colab.research.google.com/github/dehademir/Math-2024-25-Winter/blob/main/19.Limits%20of%20Sequences.ipynb\" target=\"_parent\"><img src=\"https://colab.research.google.com/assets/colab-badge.svg\" alt=\"Open In Colab\"/></a>"
      ]
    },
    {
      "cell_type": "markdown",
      "source": [
        "# Limits of Sequences\n",
        "\n",
        "A sequence is a function whose domain is the set of natural numbers $\\mathbb{N}$ (or a subset of $\\mathbb{N}$). A sequence can be expressed as:\n",
        "\n",
        "$\n",
        "a_1, a_2, a_3, \\dots\n",
        "$\n",
        "\n",
        "The limit of a sequence is the value that the terms of the sequence approach as $n$ approaches infinity. The notation for the limit of a sequence is:\n",
        "\n",
        "$\n",
        "\\lim_{n \\to \\infty} a_n = L\n",
        "$\n",
        "\n",
        "Where:\n",
        "- $a_n$ is the $n$-th term of the sequence.\n",
        "- $L$ is the limit of the sequence.\n",
        "\n",
        "### Steps to Find the Limit of a Sequence:\n",
        "\n",
        "1. **Direct Substitution**: If the sequence is given in a simple form, try substituting large values of $n$ (approaching infinity) to estimate the limit.\n",
        "2. **Limit Properties**: Use limit laws and properties to compute the limit. Common properties include:\n",
        "    - If $ \\lim_{n \\to \\infty} a_n = L $, and $ \\lim_{n \\to \\infty} b_n = M $, then:\n",
        "      $ \\lim_{n \\to \\infty} (a_n + b_n) = L + M $\n",
        "      $ \\lim_{n \\to \\infty} (a_n \\cdot b_n) = L \\cdot M $\n",
        "    - For sequences of the form $ \\frac{1}{n^p} $, the limit as $n \\to \\infty$ is $0$ for any positive power $p$.\n",
        "\n",
        "### Examples:\n",
        "\n",
        "1. For the sequence $ a_n = \\frac{1}{n} $, as $n \\to \\infty$:\n",
        "    - $ \\lim_{n \\to \\infty} \\frac{1}{n} = 0 $\n",
        "  \n",
        "2. For the sequence $ a_n = \\frac{n}{n+1} $, as $n \\to \\infty$:\n",
        "    - $ \\lim_{n \\to \\infty} \\frac{n}{n+1} = 1 $\n",
        "  \n",
        "3. For the sequence $ a_n = (-1)^n $, as $n \\to \\infty$:\n",
        "    - The sequence does not converge to any limit, because it oscillates between $-1$ and $1$. Hence, it diverges.\n",
        "\n",
        "### Divergence and Convergence:\n",
        "\n",
        "- A sequence is **convergent** if it approaches a finite limit as $n \\to \\infty$.\n",
        "- A sequence is **divergent** if it does not approach a finite limit.\n",
        "\n",
        "### Important Sequences:\n",
        "- **Arithmetic Sequence**: $ a_n = a_1 + (n - 1) \\cdot d $\n",
        "- **Geometric Sequence**: $ a_n = a_1 \\cdot r^{n-1} $\n",
        "  - If $ |r| < 1 $, then $ \\lim_{n \\to \\infty} a_n = 0 $.\n"
      ],
      "metadata": {
        "id": "A73CARrrMVQG"
      }
    },
    {
      "cell_type": "markdown",
      "source": [
        "#Example-1\n",
        "\n",
        "1. For $ \\lim_{n \\to \\infty} \\frac{n^2 + 3n}{n^2 - 2n} $\n",
        "\n",
        "$$\n",
        "\\lim_{n \\to \\infty} \\frac{n^2 + 3n}{n^2 - 2n}\n",
        "$$\n",
        "\n",
        "\n",
        "\n",
        "$$\n",
        "= \\lim_{n \\to \\infty} \\frac{1 + \\frac{3}{n}}{1 - \\frac{2}{n}}\n",
        "$$\n",
        "\n",
        "\n",
        "\n",
        "$$\n",
        "= \\frac{1 + 0}{1 - 0} = 1\n",
        "$$\n",
        "\n",
        "\n",
        "\n",
        "$$\n",
        "\\lim_{n \\to \\infty} \\frac{n^2 + 3n}{n^2 - 2n} = 1\n",
        "$$\n",
        "\n",
        "\n",
        "2. For $ \\lim_{n \\to \\infty} \\frac{(2n + 3)^3}{n^3 - 1} $\n",
        "\n",
        "$$\n",
        "\\lim_{n \\to \\infty} \\frac{(2n + 3)^3}{n^3 - 1}\n",
        "$$\n",
        "\n",
        "\n",
        "\n",
        "$$\n",
        "= \\lim_{n \\to \\infty} \\frac{8n^3 + 12n^2 + 24n + 27}{n^3 - 1}\n",
        "$$\n",
        "\n",
        "\n",
        "\n",
        "$$\n",
        "= \\lim_{n \\to \\infty} \\frac{8 + \\frac{12}{n} + \\frac{24}{n^2} + \\frac{27}{n^3}}{1 - \\frac{1}{n^3}}\n",
        "$$\n",
        "\n",
        "\n",
        "\n",
        "$$\n",
        "= \\frac{8 + 0}{1 - 0} = 8\n",
        "$$\n",
        "\n",
        "\n",
        "\n",
        "$$\n",
        "\\lim_{n \\to \\infty} \\frac{(2n + 3)^3}{n^3 - 1} = 8\n",
        "$$\n"
      ],
      "metadata": {
        "id": "9mJhFkibMWQ0"
      }
    },
    {
      "cell_type": "markdown",
      "source": [
        "#Example-2\n",
        "\n",
        "$$\n",
        "\\lim_{n \\to \\infty} \\frac{\\sin(n)}{n}\n",
        "$$\n",
        "\n",
        "\n",
        "\n",
        "$$\n",
        "-1 \\leq \\sin(n) \\leq 1\n",
        "$$\n",
        "\n",
        "\n",
        "\n",
        "$$\n",
        "-\\frac{1}{n} \\leq \\frac{\\sin(n)}{n} \\leq \\frac{1}{n}\n",
        "$$\n",
        "\n",
        "\n",
        "$$\n",
        "\\lim_{n \\to \\infty} \\frac{\\sin(n)}{n} = 0\n",
        "$$\n"
      ],
      "metadata": {
        "id": "vbBjbT7CM30m"
      }
    },
    {
      "cell_type": "markdown",
      "source": [
        "#Example-3\n",
        "\n",
        "$$\n",
        "a_n = \\left(1 + \\frac{1}{n}\\right)^n\n",
        "$$\n",
        "\n",
        "\n",
        "\n",
        "$$\n",
        "\\lim_{n \\to \\infty} \\left(1 + \\frac{1}{n}\\right)^n = e\n",
        "$$\n",
        "\n",
        "\n",
        "\n",
        "$$\n",
        "e\n",
        "$$\n"
      ],
      "metadata": {
        "id": "zr40lt_MNJF7"
      }
    }
  ],
  "metadata": {
    "colab": {
      "name": "Welcome To Colab",
      "toc_visible": true,
      "provenance": [],
      "include_colab_link": true
    },
    "kernelspec": {
      "display_name": "Python 3",
      "name": "python3"
    }
  },
  "nbformat": 4,
  "nbformat_minor": 0
}