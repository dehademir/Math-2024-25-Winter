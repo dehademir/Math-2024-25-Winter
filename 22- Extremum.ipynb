{
  "nbformat": 4,
  "nbformat_minor": 0,
  "metadata": {
    "colab": {
      "provenance": [],
      "authorship_tag": "ABX9TyMHHRXgYKoDK2n3ksrRpE3k",
      "include_colab_link": true
    },
    "kernelspec": {
      "name": "python3",
      "display_name": "Python 3"
    },
    "language_info": {
      "name": "python"
    }
  },
  "cells": [
    {
      "cell_type": "markdown",
      "metadata": {
        "id": "view-in-github",
        "colab_type": "text"
      },
      "source": [
        "<a href=\"https://colab.research.google.com/github/dehademir/Math-2024-25-Winter/blob/main/22-%20Extremum.ipynb\" target=\"_parent\"><img src=\"https://colab.research.google.com/assets/colab-badge.svg\" alt=\"Open In Colab\"/></a>"
      ]
    },
    {
      "cell_type": "markdown",
      "source": [
        "# Extremum (Local Maximum and Minimum)\n",
        "\n",
        "## 1. What is Extremum?\n",
        "Extremum points of a function are the points where the function takes a local maximum or minimum value. These points are often where the graph of the function changes direction.\n",
        "\n",
        "- **Local Maximum**: A point where the function value is higher than all other nearby points.\n",
        "- **Local Minimum**: A point where the function value is lower than all other nearby points.\n",
        "\n",
        "## 2. First Derivative\n",
        "To find extremum points, we first compute the first derivative of the function. The derivative of a function helps us understand its rate of change (or slope).\n",
        "\n",
        "**Example:**\n",
        "Given function: $ f(x) = -x^2 + 6x + 2 $\n",
        "\n",
        "First derivative:\n",
        "$\n",
        "f'(x) = \\frac{d}{dx}(-x^2 + 6x + 2) = -2x + 6\n",
        "$\n",
        "\n",
        "### **Why Set the Derivative Equal to 0?**\n",
        "- At the point where the function has a maximum or minimum, the tangent to the curve is horizontal. This means the derivative (slope) is 0.\n",
        "- So, we set $ f'(x) = 0 $ to find **critical points**.\n",
        "\n",
        "## 3. Critical Points\n",
        "Critical points are the points where the first derivative equals zero. These points can be where the function has a maximum or minimum value.\n",
        "\n",
        "### **Finding Critical Points:**\n",
        "Set the first derivative equal to zero:\n",
        "$\n",
        "f'(x) = 0\n",
        "$\n",
        "Solve for $ x $ to find the critical points.\n",
        "\n",
        "## 4. Second Derivative Test\n",
        "To determine whether the critical points are maxima or minima, we use the second derivative.\n",
        "\n",
        "- **If $ f''(x) > 0 $**, the function is **concave up** (shaped like a cup), and the point is a **local minimum**.\n",
        "- **If $ f''(x) < 0 $**, the function is **concave down** (shaped like a hill), and the point is a **local maximum**.\n",
        "- **If $ f''(x) = 0 $**, the test is inconclusive, and further analysis is required.\n",
        "\n",
        "### **Example:**\n",
        "Given function: $ f(x) = -x^2 + 6x + 2 $\n",
        "\n",
        "First derivative:\n",
        "$\n",
        "f'(x) = -2x + 6\n",
        "$\n",
        "Critical point:\n",
        "$\n",
        "f'(x) = 0 \\implies x = 3\n",
        "$\n",
        "\n",
        "Second derivative:\n",
        "$\n",
        "f''(x) = -2\n",
        "$\n",
        "Since $ f''(3) = -2 < 0 $, this critical point is a **local maximum**.\n",
        "\n",
        "## 5. Finding the Function Value at the Extremum\n",
        "To find the value of the function at a critical point, substitute $ x $ into the original function.\n",
        "\n",
        "Example:\n",
        "Given $ x = 3 $:\n",
        "$\n",
        "f(3) = -(3)^2 + 6(3) + 2 = 11\n",
        "$\n",
        "\n",
        "### **Final Answer:**\n",
        "- The function has a **local maximum** at $ x = 3 $.\n",
        "- The maximum value is **11**.\n",
        "\n",
        "## 6. Examples\n",
        "\n",
        "### **Example 1:**\n",
        "Given function: $ f(x) = -x^2 + 6x + 2 $\n",
        "\n",
        "- First derivative: $ f'(x) = -2x + 6 $\n",
        "- Second derivative: $ f''(x) = -2 $\n",
        "- Critical point: $ x = 3 $\n",
        "- Maximum value: $ f(3) = 11 $\n",
        "\n",
        "### **Example 2:**\n",
        "Given function: $ f(x) = x^2 - 4x + 3 $\n",
        "\n",
        "- First derivative: $ f'(x) = 2x - 4 $\n",
        "- Second derivative: $ f''(x) = 2 $\n",
        "- Critical point: $ x = 2 $\n",
        "- Minimum value: $ f(2) = -1 $\n",
        "\n",
        "---\n",
        "\n",
        "**Note:** Always use the second derivative to determine whether the critical point is a maximum or minimum. If the second derivative equals zero, further analysis (such as a higher-order derivative or graphing) may be required to determine the behavior of the function at that point.\n"
      ],
      "metadata": {
        "id": "4bY0KInGmWvz"
      }
    },
    {
      "cell_type": "markdown",
      "source": [
        "# Problem 1: Maximizing Profit\n",
        "\n",
        "The profit function is given by:\n",
        "\n",
        "$\n",
        "P(u) = -2u^2 + 50u - 300\n",
        "$\n",
        "\n",
        "where $ u $ is the number of units sold. Find the number of units that maximize profit.\n"
      ],
      "metadata": {
        "id": "Zpn0yrnssiKv"
      }
    },
    {
      "cell_type": "markdown",
      "source": [
        "## Second Derivative Test\n",
        "\n",
        "The second derivative of the profit function is:\n",
        "\n",
        "$\n",
        "P''(u) = -4\n",
        "$\n",
        "\n",
        "Since $ P''(u) = -4 $ is less than 0, the critical point is a local maximum. The number of units that maximizes the profit is at $ u = 12.5 $.\n"
      ],
      "metadata": {
        "id": "2gf2MV7asowP"
      }
    },
    {
      "cell_type": "markdown",
      "source": [
        "# Problem: Maximizing the Area of a Rectangle\n",
        "\n",
        "You have **10 meters** of string and need to use it to enclose the largest possible rectangle. Find the dimensions of the rectangle.\n",
        "\n",
        "- The perimeter $P$ is given as 10 meters.\n",
        "- The relationship between the length $L$ and width $W$ is:\n",
        "\n",
        "$\n",
        "P = 2L + 2W = 10\n",
        "$\n",
        "\n",
        "We want to maximize the area $A$ of the rectangle, which is given by:\n",
        "\n",
        "$\n",
        "A = L \\times W\n",
        "$\n",
        "\n",
        "### Objective:\n",
        "Maximize the area $A$, subject to the constraint $L + W = 5$.\n"
      ],
      "metadata": {
        "id": "eddVfDUtt1Q8"
      }
    },
    {
      "cell_type": "markdown",
      "source": [
        "## Maximizing the Area\n",
        "\n",
        "To find the value of $L$ that maximizes the area, we need to take the derivative of the area function $A(L) = 5L - L^2$ with respect to $L$.\n",
        "\n",
        "The first derivative of the area function is:\n",
        "\n",
        "$\n",
        "A'(L) = 5 - 2L\n",
        "$\n",
        "\n",
        "We will set this equal to 0 to find the critical points.\n"
      ],
      "metadata": {
        "id": "wIqszMEeuiDP"
      }
    },
    {
      "cell_type": "markdown",
      "source": [
        "## Second Derivative Test\n",
        "\n",
        "The second derivative of the area function is:\n",
        "\n",
        "$\n",
        "A''(L) = -2\n",
        "$\n",
        "\n",
        "Since $A''(L) = -2$ is less than 0, the critical point corresponds to a **maximum area**.\n"
      ],
      "metadata": {
        "id": "716ZEWxRukrt"
      }
    },
    {
      "cell_type": "markdown",
      "source": [
        "## Conclusion\n",
        "\n",
        "The dimensions of the rectangle that maximize the area are:\n",
        "\n",
        "- **Length** = 2.5 meters\n",
        "- **Width** = 2.5 meters\n",
        "\n",
        "Thus, the largest possible area is a **square** with side lengths of 2.5 meters.\n"
      ],
      "metadata": {
        "id": "IM0-zF0IumI4"
      }
    },
    {
      "cell_type": "markdown",
      "source": [
        "# Problem: Find the Extremum of the Function\n",
        "\n",
        "We are given the function:\n",
        "\n",
        "$\n",
        "f(x) = x^2 + 2x + \\frac{1}{x} - 1\n",
        "$\n",
        "\n",
        "### Objective:\n",
        "Find the critical points of the function and determine whether they correspond to a local minimum or a local maximum.\n",
        "\n",
        "### Steps to Solve:\n",
        "\n",
        "1. **Find the first derivative** of the function, $f'(x)$.\n",
        "2. **Set the first derivative to zero** to find the critical points: $f'(x) = 0$.\n",
        "3. **Find the second derivative** of the functi\n"
      ],
      "metadata": {
        "id": "cwL2_4SMunz8"
      }
    },
    {
      "cell_type": "markdown",
      "source": [
        "## First Derivative\n",
        "\n",
        "The first derivative of the function is:\n",
        "\n",
        "$\n",
        "f'(x) = 2x + 2 - \\frac{1}{x^2}\n",
        "$\n",
        "\n",
        "Now, we will set this equal to zero to find the critical points.\n"
      ],
      "metadata": {
        "id": "AUcmyz5Huzrn"
      }
    },
    {
      "cell_type": "markdown",
      "source": [
        "## Second Derivative Test\n",
        "\n",
        "Now, let's find the second derivative of the function to determine whether the critical points correspond to maxima or minima.\n",
        "\n",
        "The second derivative is:\n",
        "\n",
        "$\n",
        "f''(x) = 2 + \\frac{2}{x^3}\n",
        "$\n",
        "\n",
        "We will evaluate this at the critical points.\n"
      ],
      "metadata": {
        "id": "WQuJ650hu1GL"
      }
    },
    {
      "cell_type": "markdown",
      "source": [
        "## Conclusion\n",
        "\n",
        "By evaluating the second derivative at the critical points, we can determine whether they correspond to local maxima or minima based on the sign of the second derivative.\n"
      ],
      "metadata": {
        "id": "0WqWYsB7u2xL"
      }
    }
  ]
}