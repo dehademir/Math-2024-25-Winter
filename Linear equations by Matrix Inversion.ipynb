{
  "cells": [
    {
      "cell_type": "markdown",
      "metadata": {
        "id": "view-in-github",
        "colab_type": "text"
      },
      "source": [
        "<a href=\"https://colab.research.google.com/github/dehademir/Math-2024-25-Winter/blob/main/Linear%20equations%20by%20Matrix%20Inversion.ipynb\" target=\"_parent\"><img src=\"https://colab.research.google.com/assets/colab-badge.svg\" alt=\"Open In Colab\"/></a>"
      ]
    },
    {
      "cell_type": "markdown",
      "source": [
        "#10 Lineaar Equations by Matrix Inversion\n",
        "1. Solve the system of linear equations using the inverse matrix method\n",
        "$$\\begin{cases}\n",
        "x+2y+3z=5\\\\2y+3z=4\\\\3z=3\\end{cases}\n",
        "$$"
      ],
      "metadata": {
        "id": "ZPgPOQFOFmZn"
      }
    },
    {
      "cell_type": "markdown",
      "source": [
        "##1.\n",
        "Solve the system of linear equations using the inverse matrix method\n",
        "$$\\begin{cases}\n",
        "x+2y+3z=5\\\\2y+3z=4\\\\3z=3\\end{cases}\n",
        "$$\n",
        "\n",
        "$\\mathbf{A} \\mathbf{x} = \\mathbf{b}$\n",
        "\n",
        "$\\mathbf{A} =\\begin{pmatrix}1 & 2 & 3 \\\\0 & 2 & 3 \\\\0 & 0 & 3\\end{pmatrix},\n",
        "\\quad\\mathbf{x} =\\begin{pmatrix}x \\\\y \\\\z\\end{pmatrix},\n",
        "\\quad\\mathbf{b} =\\begin{pmatrix}5 \\\\4 \\\\3\n",
        "\\end{pmatrix}.$\n",
        "\n",
        "$\\mathbf{A}^{-1} = \\frac{1}{\\det(\\mathbf{A})} \\mathrm{adj}(\\mathbf{A}),$\n",
        "\n",
        "$\\det(\\mathbf{A}) = 1 \\cdot 2 \\cdot 3 = 6.$\n",
        "\n",
        "$\\mathrm{adj}(\\mathbf{A}) =\\begin{pmatrix}6 & -6 & 3 \\\\0 &3 & -2 \\\\0 & 0 & 1\\end{pmatrix}.$\n",
        "\n",
        "$\\mathbf{A}^{-1} = \\frac{1}{\\det(\\mathbf{A})} \\mathrm{adj}(\\mathbf{A}) = \\frac{1}{6}\\begin{pmatrix}6 & -6 & 3 \\\\0 & 3 & -2 \\\\0 & 0 & 1\\end{pmatrix}.$\n",
        "\n",
        "Simplify:\n",
        "$\\mathbf{A}^{-1} =\\begin{pmatrix}1 & -1 & \\frac{1}{2} \\\\0 & \\frac{1}{2} & -\\frac{1}{3} \\\\0 & 0 & \\frac{1}{3}\n",
        "\\end{pmatrix}.$\n",
        "\n",
        "\n",
        "$\\mathbf{x} =\\begin{pmatrix}1 & -1 & \\frac{1}{2} \\\\0 & \\frac{1}{2} & -\\frac{1}{3} \\\\0 & 0 & \\frac{1}{3}\\end{pmatrix}\\begin{pmatrix}5 \\\\4 \\\\3\\end{pmatrix}.$\n",
        "\n",
        "$\\mathbf{x} =\\begin{pmatrix}1 \\cdot 5 - 1 \\cdot 4 + \\frac{1}{2} \\cdot 3 \\\\0 \\cdot 5 + \\frac{1}{2} \\cdot 4 - \\frac{1}{3}\\cdot 3 \\\\0 \\cdot 5 + 0 \\cdot 4 + \\frac{1}{3} \\cdot 3\\end{pmatrix}.$\n",
        "\n",
        "$\\mathbf{x} =\\begin{pmatrix}5 - 4 + 1.5 \\\\2 - 1 \\\\1\\end{pmatrix}.$\n",
        "\n",
        "$\\mathbf{x} =\\begin{pmatrix}2.5 \\\\1 \\\\1\\end{pmatrix}.$\n",
        "\n",
        "---\n",
        "\n",
        "### Final Answer:\n",
        "The solution is:\n",
        "$x = 2.5, \\quad y = 1, \\quad z = 1$"
      ],
      "metadata": {
        "id": "pUB2rYpWGcEp"
      }
    },
    {
      "cell_type": "markdown",
      "source": [
        "##2.\n",
        "Solve the system of linear equations using the inverse matrix method:\n",
        "$$\\begin{cases}x_1+2x_2+3x_3=41\\\\4x_1+5x_2+6x_3=93\\\\7x_1+8x_2+9x_3=145\\end{cases}$$\n",
        "\n",
        "$\\mathbf{A} \\mathbf{x} = \\mathbf{b},$\n",
        "\n",
        "$\\mathbf{A} =\\begin{pmatrix}1 & 2 & 3 \\\\4 & 5 & 6 \\\\7 & 8 & 9\\end{pmatrix},\n",
        "\\quad\\mathbf{x} =\\begin{pmatrix}x_1 \\\\x_2 \\\\x_3\n",
        "\\end{pmatrix},\n",
        "\\quad\\mathbf{b} =\\begin{pmatrix}41 \\\\93 \\\\145\\end{pmatrix}.$\n",
        "\n",
        "$\\mathbf{A}^{-1} = \\frac{1}{\\det(\\mathbf{A})} \\mathrm{adj}(\\mathbf{A}),$\n",
        "\n",
        "$\\det(\\mathbf{A}) =1 \\cdot\\begin{vmatrix}5 & 6 \\\\8 & 9\\end{vmatrix}- 2 \\cdot\\begin{vmatrix}4 & 6 \\\\7 & 9\\end{vmatrix}\n",
        "+ 3 \\cdot\\begin{vmatrix}4 & 5 \\\\7 & 8\\end{vmatrix}.$\n",
        "\n",
        "1. $\\begin{vmatrix} 5 & 6 \\\\ 8 & 9 \\end{vmatrix} = 5 \\cdot 9 - 6 \\cdot 8 = 45 - 48 = -3$,\n",
        "2. $\\begin{vmatrix} 4 & 6 \\\\ 7 & 9 \\end{vmatrix} = 4 \\cdot 9 - 6 \\cdot 7 = 36 - 42 = -6$,\n",
        "3. $\\begin{vmatrix} 4 & 5 \\\\ 7 & 8 \\end{vmatrix} = 4 \\cdot 8 - 5 \\cdot 7 = 32 - 35 = -3$.\n",
        "\n",
        "$\\det(\\mathbf{A}) = 1 \\cdot (-3) - 2 \\cdot (-6) + 3 \\cdot(-3) = -3 + 12 - 9 = 0.$\n",
        "\n",
        "Since $\\det(\\mathbf{A}) = 0$, meaning it does not have an inverse.\n",
        "\n"
      ],
      "metadata": {
        "id": "FWNt89MwKnNf"
      }
    }
  ],
  "metadata": {
    "colab": {
      "name": "Welcome To Colab",
      "toc_visible": true,
      "provenance": [],
      "include_colab_link": true
    },
    "kernelspec": {
      "display_name": "Python 3",
      "name": "python3"
    }
  },
  "nbformat": 4,
  "nbformat_minor": 0
}