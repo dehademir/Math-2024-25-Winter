{
  "cells": [
    {
      "cell_type": "markdown",
      "metadata": {
        "id": "view-in-github",
        "colab_type": "text"
      },
      "source": [
        "<a href=\"https://colab.research.google.com/github/dehademir/Math-2024-25-Winter/blob/main/Functions.ipynb\" target=\"_parent\"><img src=\"https://colab.research.google.com/assets/colab-badge.svg\" alt=\"Open In Colab\"/></a>"
      ]
    },
    {
      "cell_type": "markdown",
      "source": [
        "# **Functions**\n",
        "\n",
        "---\n",
        "\n",
        "### **1. Definition of a Function**\n",
        "A function is a relation between two sets where each element in the first set (domain) is associated with exactly one element in the second set (range).  \n",
        "\n",
        "- **Notation**: $(f: A\\to B)$, where $A$ is the domain and $B$ is the codomain.  \n",
        "- If $y = f(x)$, $x$ is the input, and $y$ is the output.  \n",
        "\n",
        "---\n",
        "\n",
        "### **2. Key Terms**\n",
        "\n",
        "1. **Domain**: The set of all possible input values $(x)$ for which the function is defined.  \n",
        "2. **Range**: The set of all actual output values $(f(x))$.  \n",
        "3. **Codomain**: The set of all potential outputs, which may include values not in the range.  \n",
        "4. **Image**: The output $f(x)$ corresponding to a specific input $x$.  \n",
        "\n",
        "---\n",
        "\n",
        "### **3. Types of Functions**\n",
        "\n",
        "1. **Based on Relation**:\n",
        "   - **One-to-One (Injective)**: Each element of the domain maps to a unique element of the codomain.  \n",
        "   - **Onto (Surjective)**: Every element of the codomain is the image of at least one element from the domain.  \n",
        "   - **Bijective**: Both injective and surjective (one-to-one and onto).\n",
        "\n",
        "2. **Based on Algebraic Nature**:\n",
        "   - **Polynomial Function**: $f(x) = a_nx^n + a_{n-1}x^{n-1} + \\dots + a_0$ e.g., $f(x) = x^2 + 3x + 2$.  \n",
        "   - **Rational Function**: $ f(x) = \\frac{P(x)}{Q(x)}$, where $P(x)$ and $Q(x)$ are polynomials.  \n",
        "   - **Exponential Function**: $f(x) = a^x$, where $a > 0$ and $a \\neq 1$.  \n",
        "   - **Logarithmic Function**: $f(x) = \\log_a(x)$, the inverse of the exponential function.\n",
        "\n",
        "3. **Based on Behavior**:\n",
        "   - **Linear Function**: $f(x) = mx + c$.  \n",
        "   - **Quadratic Function**: $f(x) = ax^2 + bx + c$.  \n",
        "   - **Periodic Function**: Repeats values at regular intervals e.g., $( \\sin(x) ), ( \\cos(x) )$.  \n",
        "   - **Piecewise Function**: Defined by different expressions in different intervals.  \n",
        "\n",
        "4. **Based on Input and Output**:\n",
        "   - **Real-Valued Function**: Domain and range are subsets of real numbers $(\\mathbb{R})$.  \n",
        "   - **Complex Function**: Involves complex numbers $(\\mathbb{C})$.  \n",
        "\n",
        "---\n",
        "\n",
        "### **4. Representation of Functions**\n",
        "\n",
        "1. **Algebraic Form**: Using an equation e.g., $(f(x)= x^2 )$.  \n",
        "2. **Graphical Form**: A visual representation on a coordinate plane.  \n",
        "3. **Tabular Form**: A table of input-output pairs.  \n",
        "4. **Mapping Diagram**: Arrows showing input-output associations.  \n",
        "\n",
        "---\n",
        "\n",
        "### **5. Operations on Functions**\n",
        "\n",
        "1. **Addition**: $((f + g)(x)) = f(x) + g(x)$.  \n",
        "2. **Subtraction**:$((f - g)(x)) = f(x) - g(x)$.  \n",
        "3. **Multiplication**: $( (f \\cdot g)(x)) = f(x) \\cdot g(x) )$.  \n",
        "4. **Division**: $( \\left(\\frac{f}{g}\\right)(x) = \\frac{f(x)}{g(x)}),( g(x) \\neq 0 )$.  \n",
        "5. **Composition**: $( (f \\circ g)(x)) = f(g(x))$.  \n",
        "\n",
        "---\n",
        "\n",
        "### **6. Special Types of Functions**\n",
        "\n",
        "1. **Identity Function**: $f(x) = x$.  \n",
        "2. **Constant Function**: $f(x) = c$, where $c$ is constant.  \n",
        "3. **Even Function**: Symmetric about the y-axis; $f(-x)=f(x)$.  \n",
        "4. **Odd Function**: Symmetric about the origin; $f(-x)=-f(x)$.  \n",
        "5. **Inverse Function**: If $f(x) = y$, then $f^{-1}(y)=x$.  \n",
        "6. **Step Function**: A function that increases or decreases in steps (e.g., floor or ceiling functions).\n",
        "\n",
        "---\n",
        "\n",
        "### **7. Graphical Features**\n",
        "\n",
        "1. **Intercepts**:\n",
        "   - $x$-Intercept: Where $f(x) = 0$.  \n",
        "   - $y$-Intercept: Where $x = 0$.  \n",
        "\n",
        "2. **Symmetry**:\n",
        "   - Symmetric about the y-axis: Even functions.  \n",
        "   - Symmetric about the origin: Odd functions.\n",
        "\n",
        "3. **Asymptotes**:\n",
        "   - Vertical: $x = a$, where $(f(x) \\to \\infty )$ or $(f(x) \\to -\\infty )$ as $(x \\to a)$.  \n",
        "   - Horizontal: $y = b$, where $(f(x) \\to b)$ as $(x \\to \\infty)$ or $(x \\to -\\infty)$.  \n",
        "\n",
        "4. **Behavior**:\n",
        "   - Increasing: $f'(x) > 0$.  \n",
        "   - Decreasing: $f'(x) < 0$.  \n",
        "\n"
      ],
      "metadata": {
        "id": "ppzog3xtNkDJ"
      }
    },
    {
      "cell_type": "markdown",
      "source": [
        "\n",
        "###1.\n",
        "Draw in a single Geogebra notebook the following functions:\n",
        "\n",
        "https://www.geogebra.org/calculator/rvdyuvys\n",
        "\n",
        "Find the value of all the above functions at $x=2$\n",
        "\n",
        "$f(x)=x^2=>f(2)=2^2=>f(2)=4$\n",
        "\n",
        "$g(x)=\\sqrt{x}=>g(2)=\\sqrt{2}$\n",
        "\n",
        "$h(x)=\\frac{1}{x}=>h(2)=\\frac{1}{2}=>h(2)=0.5$\n",
        "\n",
        "$j(x)=sin(x)=>j(2)=sin(2)=>sin(2)≈0.9093$\n",
        "\n"
      ],
      "metadata": {
        "id": "fB3ZC035LvLQ"
      }
    },
    {
      "cell_type": "markdown",
      "source": [
        "###2.\n",
        "Let $f(x)=3x-1$ and $g(x)=\\sqrt{x}$.\n",
        "\n",
        "1) $f(g(x))=>f(\\sqrt{x})=3(\\sqrt{x})-1=>f(g(x))=3{\\sqrt{x}}-1$\n",
        "\n",
        "2) $g(f(x))=>g(3x-1)=\\sqrt{3x-1}=>g(f(x))=\\sqrt{3x-1}$\n",
        "\n",
        "3) $f(f(x))=f(3x-1)=>f(3x-1)=3(3x-1)-1=>f(3x-1)=9x-3-1=>f(3x-1)=9x-4=>f(3x-1)=9x-4$\n",
        "\n",
        "4) $g(g(x))=g(\\sqrt{x})=>g(\\sqrt{x})=\\sqrt{\\sqrt{x}}$\n",
        "\n",
        "https://www.geogebra.org/calculator/fj2vct4h\n"
      ],
      "metadata": {
        "id": "59FEDMYca9z7"
      }
    },
    {
      "cell_type": "markdown",
      "source": [
        "###3.\n",
        "Let $f(x)=e^x$ and $g(x)=\\ln(x)$. Check $f(g(x))$ and $g(f(x))$. What do you notice?\n",
        "\n",
        "1) $f(g(x))=f(\\ln(x))=>f(\\ln(x))=e^{\\ln(x)}$\n",
        "\n",
        "Using the property of logarithms and exponentials, we know that $e^{In(x)}=x$ for $x>0$\n",
        "\n",
        "$f(g(x))=x$ for $x>0$\n",
        "\n",
        "2) $g(f(x))=g(e^x)$\n",
        "\n",
        "Since $g(x)=In(x)$ , $g(e^x)=In(e^x)$\n",
        "\n",
        "Using the property of logarithms, $In(e^x)=x$\n",
        "\n",
        "$g(f(x))=x$\n",
        "\n",
        "This means that the functions $f(g(x))=x$ and $g(f(x))=x$ are inverses of each other.\n"
      ],
      "metadata": {
        "id": "5t06xc0SbCiB"
      }
    },
    {
      "cell_type": "markdown",
      "source": [
        "###4.\n",
        "We have function $f=(1,7),(2,9),(3,11)$. Give inverse function $f^{-1}$.\n",
        "\n",
        "$f={(1,7),(2,9),(3,11)}$\n",
        "\n",
        "$(1,7)=>(7,1)$\n",
        "\n",
        "$(2,9)=>(9,2)$\n",
        "\n",
        "$(3,11)=>(11,3)$\n",
        "\n",
        "$f^{-1}=(7,1),(9,2),(11,3)$"
      ],
      "metadata": {
        "id": "tHu3eXoAbO8h"
      }
    },
    {
      "cell_type": "markdown",
      "source": [
        "###5.\n",
        "We have function $f=(1,7),(2,7),(3,11)$. Give inverse function $f^{-1}$.\n",
        "\n",
        "$f=(7,1),(9,2),(11,3)$"
      ],
      "metadata": {
        "id": "FENnxUTibVLM"
      }
    },
    {
      "cell_type": "markdown",
      "source": [
        "###6.\n",
        "We have function $f(x)=x-1$. Give inverse function $f^{-1}$. Show both functions on the same Geogebra notebook.\n",
        "\n",
        "1) Replace $f(x)$ with $y$ :\n",
        "\n",
        "$y=x-1$\n",
        "\n",
        "2) Swap $x$ and $y$:\n",
        "\n",
        "$x=y+1$\n",
        "\n",
        "3) Solve for $y$:\n",
        "\n",
        "$y=x+1$\n",
        "\n",
        "4) Replace $y$ with $f^{-1}(x)$:\n",
        "\n",
        "$f^{-1}(x)=x+1$\n",
        "\n",
        "https://www.geogebra.org/calculator/nbt7yfv7"
      ],
      "metadata": {
        "id": "YdfW_o01bbDP"
      }
    }
  ],
  "metadata": {
    "colab": {
      "name": "Welcome To Colab",
      "toc_visible": true,
      "provenance": [],
      "include_colab_link": true
    },
    "kernelspec": {
      "display_name": "Python 3",
      "name": "python3"
    }
  },
  "nbformat": 4,
  "nbformat_minor": 0
}