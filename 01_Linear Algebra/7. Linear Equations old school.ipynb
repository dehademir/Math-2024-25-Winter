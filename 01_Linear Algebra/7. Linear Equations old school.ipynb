{
  "cells": [
    {
      "cell_type": "markdown",
      "metadata": {
        "id": "view-in-github",
        "colab_type": "text"
      },
      "source": [
        "<a href=\"https://colab.research.google.com/github/dehademir/Math-2024-25-Winter/blob/main/7.%20Linear%20Equations%20old%20school.ipynb\" target=\"_parent\"><img src=\"https://colab.research.google.com/assets/colab-badge.svg\" alt=\"Open In Colab\"/></a>"
      ]
    },
    {
      "cell_type": "code",
      "source": [
        "from sympy import symbols, Eq, solve\n",
        "\n",
        "x, y, z, t = symbols('x y z t')\n",
        "\n",
        "eq1_1 = Eq(3*x - 2*y, 5)\n",
        "eq1_2 = Eq(2*x + 3*y, 7)\n",
        "solution_system1 = solve((eq1_1, eq1_2), (x, y))\n",
        "print(solution_system1[x], solution_system1[y])\n",
        "\n",
        "eq2_1 = Eq(2*x - 3*y, 10)\n",
        "eq2_2 = Eq(4*x + 5*y, 20)\n",
        "solution_system2 = solve((eq2_1, eq2_2), (x, y))\n",
        "print(solution_system2[x], solution_system2[y])\n",
        "\n",
        "eq3_1 = Eq(2*x - y + z, 3)\n",
        "eq3_2 = Eq(x + 2*y - z, 1)\n",
        "eq3_3 = Eq(3*x - y + 2*z, 11)\n",
        "solution_system3 = solve((eq3_1, eq3_2, eq3_3), (x, y, z))\n",
        "print(solution_system3[x], solution_system3[y], solution_system3[z])\n",
        "\n",
        "eq4_1 = Eq(2*x - 3*y + 4*z + 2*t, 2)\n",
        "eq4_2 = Eq(3*x + 2*y - 5*z + 3*t, 3)\n",
        "eq4_3 = Eq(4*x - 3*y + 2*z - 5*t, 4)\n",
        "eq4_4 = Eq(5*x + 4*y - 3*z + 2*t, 5)\n",
        "solution_system4 = solve((eq4_1, eq4_2, eq4_3, eq4_4), (x, y, z, t))\n",
        "print(solution_system4[x], solution_system4[y], solution_system4[z], solution_system4[t])\n"
      ],
      "metadata": {
        "id": "fsXSzufshXSX",
        "outputId": "afe268dc-2f58-4f4a-8535-ed4adcb334f2",
        "colab": {
          "base_uri": "https://localhost:8080/"
        }
      },
      "execution_count": 60,
      "outputs": [
        {
          "output_type": "stream",
          "name": "stdout",
          "text": [
            "29/13 11/13\n",
            "5 0\n",
            "-1/4 19/4 33/4\n",
            "1 0 0 0\n"
          ]
        }
      ]
    }
  ],
  "metadata": {
    "colab": {
      "name": "Welcome To Colab",
      "toc_visible": true,
      "provenance": [],
      "include_colab_link": true
    },
    "kernelspec": {
      "display_name": "Python 3",
      "name": "python3"
    }
  },
  "nbformat": 4,
  "nbformat_minor": 0
}