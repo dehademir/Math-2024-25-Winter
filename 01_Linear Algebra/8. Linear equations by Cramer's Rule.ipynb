{
  "cells": [
    {
      "cell_type": "markdown",
      "metadata": {
        "id": "view-in-github",
        "colab_type": "text"
      },
      "source": [
        "<a href=\"https://colab.research.google.com/github/dehademir/Math-2024-25-Winter/blob/main/8.%20Linear%20equations%20by%20Cramer's%20Rule.ipynb\" target=\"_parent\"><img src=\"https://colab.research.google.com/assets/colab-badge.svg\" alt=\"Open In Colab\"/></a>"
      ]
    },
    {
      "cell_type": "code",
      "source": [
        "from sympy import symbols, Eq, solve\n",
        "\n",
        "x1, x2 = symbols('x1 x2')\n",
        "\n",
        "eq1 = Eq(2*x1 - 3*x2, 7)\n",
        "eq2 = Eq(3*x1 + 5*x2, 2)\n",
        "solution1 = solve((eq1, eq2), (x1, x2))\n",
        "print(solution1[x1], solution1[x2])\n"
      ],
      "metadata": {
        "id": "X4G8iIUpiWKI",
        "outputId": "9286d45c-8352-4f7a-af30-adf584f8817c",
        "colab": {
          "base_uri": "https://localhost:8080/"
        }
      },
      "execution_count": 61,
      "outputs": [
        {
          "output_type": "stream",
          "name": "stdout",
          "text": [
            "41/19 -17/19\n"
          ]
        }
      ]
    },
    {
      "cell_type": "code",
      "source": [
        "x, y, z = symbols('x y z')\n",
        "\n",
        "eq1 = Eq(2*x + y - z, 1)\n",
        "eq2 = Eq(x - y + 2*z, 4)\n",
        "eq3 = Eq(3*x - 2*z, -1)\n",
        "solution2 = solve((eq1, eq2, eq3), (x, y, z))\n",
        "print(solution2[x], solution2[y], solution2[z])\n"
      ],
      "metadata": {
        "id": "cBVKgoIciWwx",
        "outputId": "4863c5cc-9376-402c-9fb4-b7d7452d026c",
        "colab": {
          "base_uri": "https://localhost:8080/"
        }
      },
      "execution_count": 62,
      "outputs": [
        {
          "output_type": "stream",
          "name": "stdout",
          "text": [
            "1 1 2\n"
          ]
        }
      ]
    },
    {
      "cell_type": "code",
      "source": [
        "t = symbols('t')\n",
        "\n",
        "eq1 = Eq(x + y + z - t, 2)\n",
        "eq2 = Eq(x - z + 2*t, 6)\n",
        "eq3 = Eq(2*x - 3*y + t, 4)\n",
        "eq4 = Eq(3*x + y + 3*z - 4*t, -2)\n",
        "solution3 = solve((eq1, eq2, eq3, eq4), (x, y, z, t))\n",
        "print(solution3[x], solution3[y], solution3[z], solution3[t])\n"
      ],
      "metadata": {
        "id": "rcoxFa0oiYNP",
        "outputId": "56bf1244-ae37-4340-f890-42b47638c978",
        "colab": {
          "base_uri": "https://localhost:8080/"
        }
      },
      "execution_count": 63,
      "outputs": [
        {
          "output_type": "stream",
          "name": "stdout",
          "text": [
            "1/2 1 13/2 6\n"
          ]
        }
      ]
    }
  ],
  "metadata": {
    "colab": {
      "name": "Welcome To Colab",
      "toc_visible": true,
      "provenance": [],
      "include_colab_link": true
    },
    "kernelspec": {
      "display_name": "Python 3",
      "name": "python3"
    }
  },
  "nbformat": 4,
  "nbformat_minor": 0
}