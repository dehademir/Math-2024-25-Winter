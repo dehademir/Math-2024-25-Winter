{
  "cells": [
    {
      "cell_type": "markdown",
      "metadata": {
        "id": "view-in-github",
        "colab_type": "text"
      },
      "source": [
        "<a href=\"https://colab.research.google.com/github/dehademir/Math-2024-25-Winter/blob/main/2.%20Determinants%202x2%20and%203x3.ipynb\" target=\"_parent\"><img src=\"https://colab.research.google.com/assets/colab-badge.svg\" alt=\"Open In Colab\"/></a>"
      ]
    },
    {
      "cell_type": "code",
      "source": [
        "import numpy as np\n",
        "\n",
        "A = np.array([[2, 3], [1, 4]])\n",
        "B = np.array([[5, 6], [7, 8]])\n",
        "C = np.array([[-1, 2], [3, 0]])\n",
        "\n",
        "D = np.array([[1, 0, 2], [-1, 3, 1], [2, 4, -2]])\n",
        "E = np.array([[3, 1, -1], [0, 2, 4], [5, 3, 2]])\n",
        "F = np.array([[2, -3, 1], [1, 4, -2], [1, 5, 3]])\n",
        "\n",
        "det_A = np.linalg.det(A)\n",
        "det_B = np.linalg.det(B)\n",
        "det_C = np.linalg.det(C)\n",
        "det_D = np.linalg.det(D)\n",
        "det_E = np.linalg.det(E)\n",
        "det_F = np.linalg.det(F)\n",
        "\n",
        "print(f\"det(A) = {det_A}\")\n",
        "print(f\"det(B) = {det_B}\")\n",
        "print(f\"det(C) = {det_C}\")\n",
        "print(f\"det(D) = {det_D}\")\n",
        "print(f\"det(E) = {det_E}\")\n",
        "print(f\"det(F) = {det_F}\")"
      ],
      "metadata": {
        "id": "RxucKLynBgx5",
        "outputId": "b7aafff2-de6d-46f2-82d3-cc86e04f2122",
        "colab": {
          "base_uri": "https://localhost:8080/"
        }
      },
      "execution_count": 86,
      "outputs": [
        {
          "output_type": "stream",
          "name": "stdout",
          "text": [
            "det(A) = 5.000000000000001\n",
            "det(B) = -2.000000000000005\n",
            "det(C) = -6.0\n",
            "det(D) = -29.99999999999999\n",
            "det(E) = 5.999999999999995\n",
            "det(F) = 60.000000000000036\n"
          ]
        }
      ]
    }
  ],
  "metadata": {
    "colab": {
      "name": "Welcome To Colab",
      "toc_visible": true,
      "provenance": [],
      "include_colab_link": true
    },
    "kernelspec": {
      "display_name": "Python 3",
      "name": "python3"
    }
  },
  "nbformat": 4,
  "nbformat_minor": 0
}