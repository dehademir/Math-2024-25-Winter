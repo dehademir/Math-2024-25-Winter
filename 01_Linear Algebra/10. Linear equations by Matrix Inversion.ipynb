{
  "cells": [
    {
      "cell_type": "markdown",
      "metadata": {
        "id": "view-in-github",
        "colab_type": "text"
      },
      "source": [
        "<a href=\"https://colab.research.google.com/github/dehademir/Math-2024-25-Winter/blob/main/10.%20Linear%20equations%20by%20Matrix%20Inversion.ipynb\" target=\"_parent\"><img src=\"https://colab.research.google.com/assets/colab-badge.svg\" alt=\"Open In Colab\"/></a>"
      ]
    },
    {
      "cell_type": "code",
      "source": [
        "import numpy as np\n",
        "\n",
        "A1 = np.array([[1, 2, 3], [0, 2, 3], [0, 0, 3]])\n",
        "B1 = np.array([5, 4, 3])\n",
        "\n",
        "X1 = np.linalg.inv(A1).dot(B1)\n",
        "print(X1)\n"
      ],
      "metadata": {
        "id": "AlxtPaIyjNmj",
        "outputId": "a4e899b4-cc6b-474a-82be-18f933af2b92",
        "colab": {
          "base_uri": "https://localhost:8080/"
        }
      },
      "execution_count": 67,
      "outputs": [
        {
          "output_type": "stream",
          "name": "stdout",
          "text": [
            "[1.  0.5 1. ]\n"
          ]
        }
      ]
    },
    {
      "cell_type": "code",
      "source": [
        "import numpy as np\n",
        "\n",
        "A2 = np.array([[1, 2, 3], [4, 5, 6], [7, 8, 9]])\n",
        "\n",
        "det_A2 = np.linalg.det(A2)\n",
        "print(det_A2)  # This will print 0, indicating the matrix is singular\n"
      ],
      "metadata": {
        "id": "Ug_FZkngjOUz",
        "outputId": "753023d5-4db8-4572-e8e0-1246e9b81529",
        "colab": {
          "base_uri": "https://localhost:8080/"
        }
      },
      "execution_count": 69,
      "outputs": [
        {
          "output_type": "stream",
          "name": "stdout",
          "text": [
            "0.0\n"
          ]
        }
      ]
    }
  ],
  "metadata": {
    "colab": {
      "name": "Welcome To Colab",
      "toc_visible": true,
      "provenance": [],
      "include_colab_link": true
    },
    "kernelspec": {
      "display_name": "Python 3",
      "name": "python3"
    }
  },
  "nbformat": 4,
  "nbformat_minor": 0
}