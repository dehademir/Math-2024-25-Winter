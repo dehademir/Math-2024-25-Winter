{
  "cells": [
    {
      "cell_type": "markdown",
      "metadata": {
        "id": "view-in-github",
        "colab_type": "text"
      },
      "source": [
        "<a href=\"https://colab.research.google.com/github/dehademir/Math-2024-25-Winter/blob/main/17.%20Equations%20of%20second-order%20surfaces.ipynb\" target=\"_parent\"><img src=\"https://colab.research.google.com/assets/colab-badge.svg\" alt=\"Open In Colab\"/></a>"
      ]
    },
    {
      "cell_type": "code",
      "source": [
        "import sympy as sp\n",
        "\n",
        "x, y, z = sp.symbols('x y z')\n",
        "\n",
        "center = [1, 2, 3]\n",
        "radius = 3\n",
        "sphere_eq = sp.Eq((x - center[0])**2 + (y - center[1])**2 + (z - center[2])**2, radius**2)\n",
        "print(f\"Equation of sphere: {sphere_eq}\")\n",
        "\n",
        "sphere1 = sp.Eq(x**2 + y**2 + z**2, 1)\n",
        "sphere2 = sp.Eq(x**2 + y**2 + z**2, 2)\n",
        "\n",
        "print(\"The spheres x^2 + y^2 + z^2 = 1 and x^2 + y^2 + z^2 = 2 do not intersect.\")\n",
        "\n",
        "sphere1 = sp.Eq(x**2 + y**2 + z**2, 1)\n",
        "sphere2 = sp.Eq((x - 1)**2 + y**2 + z**2, 1)\n",
        "intersection_curve = sp.solve([sphere1, sphere2], (x, y, z))\n",
        "print(f\"Equation of the curve formed by intersection: {intersection_curve}\")\n",
        "\n",
        "f = (x - 1)**2 + y**2 + 1\n",
        "\n",
        "grad_f = [sp.diff(f, var) for var in (x, y)]\n",
        "\n",
        "grad_f_at_P = [grad.evalf(subs={x: 1, y: 0}) for grad in grad_f]\n",
        "\n",
        "tangent_plane_eq = grad_f_at_P[0] * (x - 1) + grad_f_at_P[1] * (y - 0) - 1\n",
        "print(f\"Tangent plane equation: {tangent_plane_eq} = 0\")\n"
      ],
      "metadata": {
        "id": "ipQE1Myc0R1-",
        "outputId": "926218e1-0529-4bd9-93ed-413dfd9f33a5",
        "colab": {
          "base_uri": "https://localhost:8080/"
        }
      },
      "execution_count": 82,
      "outputs": [
        {
          "output_type": "stream",
          "name": "stdout",
          "text": [
            "Equation of sphere: Eq((x - 1)**2 + (y - 2)**2 + (z - 3)**2, 9)\n",
            "The spheres x^2 + y^2 + z^2 = 1 and x^2 + y^2 + z^2 = 2 do not intersect.\n",
            "Equation of the curve formed by intersection: [(1/2, -sqrt(3 - 4*z**2)/2, z), (1/2, sqrt(3 - 4*z**2)/2, z)]\n",
            "Tangent plane equation: 0.e-125*x - 0.e+0 = 0\n"
          ]
        }
      ]
    }
  ],
  "metadata": {
    "colab": {
      "name": "Welcome To Colab",
      "toc_visible": true,
      "provenance": [],
      "include_colab_link": true
    },
    "kernelspec": {
      "display_name": "Python 3",
      "name": "python3"
    }
  },
  "nbformat": 4,
  "nbformat_minor": 0
}