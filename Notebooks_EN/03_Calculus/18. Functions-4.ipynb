{
  "cells": [
    {
      "cell_type": "markdown",
      "metadata": {
        "id": "view-in-github",
        "colab_type": "text"
      },
      "source": [
        "<a href=\"https://colab.research.google.com/github/dehademir/Math-2024-25-Winter/blob/main/18.%20Functions-4.ipynb\" target=\"_parent\"><img src=\"https://colab.research.google.com/assets/colab-badge.svg\" alt=\"Open In Colab\"/></a>"
      ]
    },
    {
      "cell_type": "code",
      "source": [
        "import numpy as np\n",
        "\n",
        "def inverse_function(f):\n",
        "    f_inv = [(y, x) for x, y in f]\n",
        "    return f_inv\n",
        "\n",
        "f = [(1, 7), (2, 9), (3, 11)]\n",
        "f_inv = inverse_function(f)\n",
        "f_inv\n"
      ],
      "metadata": {
        "id": "T6_4P88WIMAH",
        "outputId": "bbb6de44-51d0-4f79-af79-b6b468f7d70a",
        "colab": {
          "base_uri": "https://localhost:8080/"
        }
      },
      "execution_count": 92,
      "outputs": [
        {
          "output_type": "execute_result",
          "data": {
            "text/plain": [
              "[(7, 1), (9, 2), (11, 3)]"
            ]
          },
          "metadata": {},
          "execution_count": 92
        }
      ]
    }
  ],
  "metadata": {
    "colab": {
      "name": "Welcome To Colab",
      "toc_visible": true,
      "provenance": [],
      "include_colab_link": true
    },
    "kernelspec": {
      "display_name": "Python 3",
      "name": "python3"
    }
  },
  "nbformat": 4,
  "nbformat_minor": 0
}