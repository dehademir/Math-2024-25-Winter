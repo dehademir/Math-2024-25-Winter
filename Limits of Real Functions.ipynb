{
  "cells": [
    {
      "cell_type": "markdown",
      "metadata": {
        "id": "view-in-github",
        "colab_type": "text"
      },
      "source": [
        "<a href=\"https://colab.research.google.com/github/dehademir/Math-2024-25-Winter/blob/main/Limits%20of%20Real%20Functions.ipynb\" target=\"_parent\"><img src=\"https://colab.research.google.com/assets/colab-badge.svg\" alt=\"Open In Colab\"/></a>"
      ]
    },
    {
      "cell_type": "markdown",
      "source": [
        "#Limits of Real Functions\n",
        "---\n",
        "\n",
        "### **1. Definition of the Limit of a Real Function**\n",
        "\n",
        "Let $f(x)$ be a real-valued function defined on some domain $D \\subset \\mathbb{R}$.  \n",
        "The **limit** of $f(x)$ as $x \\to c$ is $L$ if, for every $\\epsilon > 0$, there exists a $\\delta > 0$ such that:  \n",
        "$|f(x) - L| < \\epsilon \\quad \\text{whenever } 0 < |x - c| < \\delta.$\n",
        "- Denoted as:\n",
        "  $$\\lim_{x \\to c} f(x) = L.$$\n",
        "- $L$: The limit of $f(x)$ as $x$ approaches $c$.  \n",
        "\n",
        "If no such $L$ exists, the limit does not exist.\n",
        "\n",
        "---\n",
        "\n",
        "### **2. One-Sided Limits**\n",
        "#### A. **Right-Hand Limit**\n",
        "$$\\lim_{x \\to c^+} f(x) = L \\quad \\text{if } f(x) \\to L \\text{ as } x \\to c \\text{ from the right } (x > c).$$\n",
        "\n",
        "#### B. **Left-Hand Limit**\n",
        "$$\\lim_{x \\to c^-} f(x) = L \\quad \\text{if } f(x) \\to L \\text{ as } x \\to c \\text{ from the left } (x < c).$$\n",
        "\n",
        "#### C. Existence of Two-Sided Limit\n",
        "The two-sided limit exists if and only if:  \n",
        "$$\\lim_{x \\to c^+} f(x) = \\lim_{x \\to c^-} f(x) = L.$$\n",
        "\n",
        "---\n",
        "\n",
        "### **3. Limit at Infinity**\n",
        "#### A. Finite Limit as \\( x \\to \\infty \\)\n",
        "$$\\lim_{x \\to \\infty} f(x) = L \\quad \\text{if for every } \\epsilon > 0, \\text{ there exists } M > 0 \\text{ such that } |f(x) - L| < \\epsilon \\text{ for all } x > M.$$\n",
        "\n",
        "#### B. Infinite Limit\n",
        "- $$f(x) \\to \\infty$:  \n",
        "  $\\lim_{x \\to c} f(x) = \\infty \\quad \\text{if } f(x) \\text{ grows arbitrarily large as } x \\to c.$$\n",
        "\n",
        "---\n",
        "\n",
        "### **4. Properties of Limits**\n",
        "\n",
        "#### A. Sum Rule\n",
        "$$\\lim_{x \\to c} [f(x) + g(x)] = \\lim_{x \\to c} f(x) + \\lim_{x \\to c} g(x).$$\n",
        "\n",
        "#### B. Difference Rule\n",
        "$$\\lim_{x \\to c} [f(x) - g(x)] = \\lim_{x \\to c} f(x) - \\lim_{x \\to c} g(x).$$\n",
        "\n",
        "#### C. Product Rule\n",
        "$$\\lim_{x \\to c} [f(x) \\cdot g(x)] = \\left(\\lim_{x \\to c} f(x)\\right) \\cdot \\left(\\lim_{x \\to c} g(x)\\right).$$\n",
        "\n",
        "#### D. Quotient Rule\n",
        "$$\\lim_{x \\to c} \\frac{f(x)}{g(x)} = \\frac{\\lim_{x \\to c} f(x)}{\\lim_{x \\to c} g(x)}, \\quad \\text{if } \\lim_{x \\to c} g(x) \\neq 0.$$\n",
        "\n",
        "#### E. Power Rule\n",
        "$$\\lim_{x \\to c} [f(x)]^n = \\left[\\lim_{x \\to c} f(x)\\right]^n, \\quad n \\in \\mathbb{N}.$$\n",
        "\n",
        "---\n",
        "\n",
        "### **5. Special Cases**\n",
        "#### A. Polynomial Functions\n",
        "$$\\lim_{x \\to c} P(x) = P(c),$$\n",
        "where $P(x)$ is a polynomial.\n",
        "\n",
        "#### B. Rational Functions\n",
        "$$\\lim_{x \\to c} \\frac{P(x)}{Q(x)} = \\frac{P(c)}{Q(c)}, \\quad Q(c) \\neq 0.$$\n",
        "If $Q(c) = 0$, use limits at the boundary (or simplify).\n",
        "\n",
        "#### C. Trigonometric Limits\n",
        "1. $$\\lim_{x \\to 0} \\frac{\\sin x}{x} = 1$$.\n",
        "2. $$\\lim_{x \\to 0} \\frac{1 - \\cos x}{x} = 0$$.\n",
        "\n",
        "#### D. Exponential and Logarithmic Limits\n",
        "1. $$\\lim_{x \\to \\infty} e^x = \\infty, \\lim_{x \\to -\\infty} e^x = 0 $$.\n",
        "2. $$\\lim_{x \\to 0^+} \\ln x = -\\infty, \\lim_{x \\to \\infty} \\ln x = \\infty$$.\n",
        "\n",
        "---\n",
        "\n",
        "### **6. Techniques for Finding Limits**\n",
        "\n",
        "#### A. **Direct Substitution**\n",
        "If $f(x)$ is continuous at $c$, then:  \n",
        "$$\\lim_{x \\to c} f(x) = f(c).$$\n",
        "\n",
        "#### B. **Factoring**\n",
        "Simplify $f(x)$ by factoring and canceling terms.\n",
        "\n",
        "#### C. **Rationalizing**\n",
        "Multiply numerator and denominator by a conjugate to simplify.\n",
        "\n",
        "#### D. **Divide by the Highest Power**\n",
        "For limits involving rational functions as $x \\to \\infty$:  \n",
        "- Divide numerator and denominator by the highest power of $x$.\n",
        "\n",
        "#### E. **L’Hôpital’s Rule** (for indeterminate forms like $\\frac{0}{0}$ or $\\frac{\\infty}{\\infty}$:\n",
        "$$\\lim_{x \\to c} \\frac{f(x)}{g(x)} = \\lim_{x \\to c} \\frac{f'(x)}{g'(x)}, \\quad \\text{if derivatives exist.}$$\n",
        "\n",
        "---\n",
        "\n",
        "### **7. Squeeze Theorem**\n",
        "If $g(x) \\leq f(x) \\leq h(x)$ for all $x$ near $c$, and:\n",
        "$$\\lim_{x \\to c} g(x) = \\lim_{x \\to c} h(x) = L,$$\n",
        "then:\n",
        "$$\\lim_{x \\to c} f(x) = L.$$\n",
        "- Example:  \n",
        "  $$\\lim_{x \\to 0} x^2 \\sin \\frac{1}{x} = 0, \\quad \\text{using } -x^2 \\leq x^2 \\sin \\frac{1}{x} \\leq x^2.$$\n",
        "---\n",
        "\n",
        "### **8. Infinite Limits and Asymptotes**\n",
        "\n",
        "#### A. Vertical Asymptotes\n",
        "If $$\\lim_{x \\to c^+} f(x) = \\pm \\infty$$ or $$\\lim_{x \\to c^-} f(x) = \\pm \\infty$$\n",
        "then $x = c$ is a vertical asymptote.\n",
        "\n",
        "#### B. Horizontal Asymptotes\n",
        "If $$\\lim_{x \\to \\infty} f(x) = L$$, then $y = L$ is a horizontal asymptote.\n",
        "\n"
      ],
      "metadata": {
        "id": "k_boANiUiCbc"
      }
    },
    {
      "cell_type": "markdown",
      "source": [
        "###1.\n",
        "Compute: $$\\lim_{x\\to∞}\\frac{x^3+2x^2}{x^4-3x^3}$$\n",
        "\n",
        "$$\\lim_{x\\to∞}\\frac{x^3+2x^2}{x^4-3x^3}=\\lim_{x\\to∞}\\frac{{\\frac{x^3}{x^4}}+{\\frac{2x^2}{x^4}}}{{\\frac{x^4}{x^4}}-{\\frac{3x^3}{x^4}}}$$\n",
        "\n",
        "$\\frac{x^3}{x^4}=\\frac{1}{x},\\frac{2x^2}{x^4}=\\frac{2}{x^2},\\frac{x^4}{x^4}=1,\\frac{3x^3}{x^4}=\\frac{3}{x}$\n",
        "\n",
        "$$\\lim_{x\\to∞}\\frac{{\\frac{1}{x}}+{\\frac{2}{x^2}}}{{1}-{\\frac{3}{x}}}$$\n",
        "\n",
        "As $x→∞$: $\\frac{1}{x} → 0,\\frac{2}{x^2} → 0 ,\\frac{3}{x}→ 0$\n",
        "\n",
        "$$\\lim_{x\\to∞}\\frac{{\\frac{1}{x}}+{\\frac{2}{x^2}}}{{1}-{\\frac{3}{x}}}→\\lim_{x\\to∞}\\frac{0+0}{1-0}=0$$\n",
        "\n",
        "$$\\lim_{x\\to∞}\\frac{x^3+2x^2}{x^4-3x^3}=0$$"
      ],
      "metadata": {
        "id": "EHs7Y0tVlasY"
      }
    },
    {
      "cell_type": "markdown",
      "source": [
        "### 2.\n",
        "Find: $$\\lim_{x\\to0}\\frac{sin(3x)}{2x+1}$$\n",
        "As $x\\to0$:\n",
        "- $sin(3x)→sin(0)=0$\n",
        "- $2x+1→2⋅0+1=1$\n",
        "\n",
        "$$\\frac{sin(3x)}{2x+1}=\\frac{0}{1}=0$$\n",
        "\n",
        "$$\\lim_{x\\to0}\\frac{sin(3x)}{2x+1}=0$$"
      ],
      "metadata": {
        "id": "CYtTeHPEqbkj"
      }
    },
    {
      "cell_type": "markdown",
      "source": [
        "###3.\n",
        "Find the asymptotes of the function:\n",
        "\n",
        "$f(x)=\\frac{x^2-1}{x^2+1}$\n",
        "\n",
        "$g(x)=\\frac{sin(x)}{x^2+1}$"
      ],
      "metadata": {
        "id": "vweIQgV3ryxc"
      }
    }
  ],
  "metadata": {
    "colab": {
      "name": "Welcome To Colab",
      "toc_visible": true,
      "provenance": [],
      "include_colab_link": true
    },
    "kernelspec": {
      "display_name": "Python 3",
      "name": "python3"
    }
  },
  "nbformat": 4,
  "nbformat_minor": 0
}