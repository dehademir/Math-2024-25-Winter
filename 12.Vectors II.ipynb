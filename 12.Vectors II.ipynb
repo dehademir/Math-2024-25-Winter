{
  "cells": [
    {
      "cell_type": "markdown",
      "metadata": {
        "id": "view-in-github",
        "colab_type": "text"
      },
      "source": [
        "<a href=\"https://colab.research.google.com/github/dehademir/Math-2024-25-Winter/blob/main/12.Vectors%20II.ipynb\" target=\"_parent\"><img src=\"https://colab.research.google.com/assets/colab-badge.svg\" alt=\"Open In Colab\"/></a>"
      ]
    },
    {
      "cell_type": "markdown",
      "source": [
        "#Vectors II\n",
        "\n",
        "#Example-1\n",
        "\n",
        "### Vector Addition\n",
        "\n",
        "To perform the addition of vectors $ \\mathbf{v_1} = [2, 1] $ and $ \\mathbf{v_2} = [-1, 1] $, we simply add the corresponding components:\n",
        "\n",
        "$\n",
        "\\mathbf{v_1} + \\mathbf{v_2} = [2 + (-1), 1 + 1] = [1, 2]\n",
        "$\n",
        "\n",
        "Thus, the sum of the vectors is $ \\mathbf{v_1} + \\mathbf{v_2} = [1, 2] $.\n",
        "\n",
        "---\n",
        "\n",
        "### Plotting the Vectors and Their Sum\n",
        "\n",
        "We will now plot $ \\mathbf{v_1} $, $ \\mathbf{v_2} $, and their sum on a graph.\n",
        "\n",
        "1. Vector $ \\mathbf{v_1} = [2, 1] $ starts at the origin (0, 0) and ends at (2, 1).\n",
        "2. Vector $ \\mathbf{v_2} = [-1, 1] $ starts at the origin (0, 0) and ends at (-1, 1).\n",
        "3. The sum vector $ \\mathbf{v_1} + \\mathbf{v_2} = [1, 2] $ starts at the origin (0, 0) and ends at (1, 2).\n",
        "\n"
      ],
      "metadata": {
        "id": "WaEckiP9w1-t"
      }
    },
    {
      "cell_type": "code",
      "source": [
        "import matplotlib.pyplot as plt\n",
        "import numpy as np\n",
        "\n",
        "# Define the vectors\n",
        "v1 = np.array([2, 1])\n",
        "v2 = np.array([-1, 1])\n",
        "sum_vector = v1 + v2\n",
        "\n",
        "# Create the plot\n",
        "plt.figure(figsize=(6,6))\n",
        "plt.quiver(0, 0, v1[0], v1[1], angles='xy', scale_units='xy', scale=1, color='r', label=\"v1 = [2, 1]\")\n",
        "plt.quiver(0, 0, v2[0], v2[1], angles='xy', scale_units='xy', scale=1, color='b', label=\"v2 = [-1, 1]\")\n",
        "plt.quiver(0, 0, sum_vector[0], sum_vector[1], angles='xy', scale_units='xy', scale=1, color='g', label=\"v1 + v2 = [1, 2]\")\n",
        "\n",
        "# Set limits and labels\n",
        "plt.xlim(-2, 3)\n",
        "plt.ylim(-1, 3)\n",
        "plt.axhline(0, color='black',linewidth=0.5)\n",
        "plt.axvline(0, color='black',linewidth=0.5)\n",
        "plt.grid(True)\n",
        "\n",
        "# Add labels and legend\n",
        "plt.text(v1[0] + 0.1, v1[1], '$v_1$', color='r', fontsize=12)\n",
        "plt.text(v2[0] - 1.2, v2[1], '$v_2$', color='b', fontsize=12)\n",
        "plt.text(sum_vector[0] + 0.1, sum_vector[1], '$v_1 + v_2$', color='g', fontsize=12)\n",
        "\n",
        "plt.legend()\n",
        "plt.gca().set_aspect('equal', adjustable='box')\n",
        "plt.title(\"Vector Addition and Sum\")\n",
        "\n",
        "# Display the plot\n",
        "plt.show()\n"
      ],
      "metadata": {
        "id": "PCDyJENnw7e7",
        "outputId": "114eb102-1017-431f-a86d-116778e2cd96",
        "colab": {
          "base_uri": "https://localhost:8080/",
          "height": 455
        }
      },
      "execution_count": 2,
      "outputs": [
        {
          "output_type": "display_data",
          "data": {
            "text/plain": [
              "<Figure size 600x600 with 1 Axes>"
            ],
            "image/png": "[encoded data removed]"
          },
          "metadata": {}
        }
      ]
    },
    {
      "cell_type": "markdown",
      "source": [
        "#Example-2\n",
        "\n",
        "To calculate the area of the triangle spanned by the vectors $ \\mathbf{v}_1 = [2, 1, 2] $ and $ \\mathbf{v}_2 = [-1, 1, 1] $, we use the following formula for the area of a triangle formed by two vectors in 3D space:\n",
        "\n",
        "$\n",
        "\\text{Area} = \\frac{1}{2} \\| \\mathbf{v}_1 \\times \\mathbf{v}_2 \\|\n",
        "$\n",
        "\n",
        "Where $ \\mathbf{v}_1 \\times \\mathbf{v}_2 $ is the cross product of the two vectors, and $ \\| \\mathbf{v}_1 \\times \\mathbf{v}_2 \\| $ is the magnitude (length) of the cross product.\n",
        "\n",
        "### Step 1: Compute the cross product\n",
        "\n",
        "The cross product of two vectors $ \\mathbf{v}_1 = [x_1, y_1, z_1] $ and $ \\mathbf{v}_2 = [x_2, y_2, z_2] $ is given by:\n",
        "\n",
        "$\n",
        "\\mathbf{v}_1 \\times \\mathbf{v}_2 = \\left[ \\begin{vmatrix} y_1 & z_1 \\\\ y_2 & z_2 \\end{vmatrix}, \\begin{vmatrix} z_1 & x_1 \\\\ z_2 & x_2 \\end{vmatrix}, \\begin{vmatrix} x_1 & y_1 \\\\ x_2 & y_2 \\end{vmatrix} \\right]\n",
        "$\n",
        "\n",
        "Substitute the values from $ \\mathbf{v}_1 = [2, 1, 2] $ and $ \\mathbf{v}_2 = [-1, 1, 1] $ into the formula:\n",
        "\n",
        "$\n",
        "\\mathbf{v}_1 \\times \\mathbf{v}_2 = \\left[ \\begin{vmatrix} 1 & 2 \\\\ 1 & 1 \\end{vmatrix}, \\begin{vmatrix} 2 & 2 \\\\ 1 & -1 \\end{vmatrix}, \\begin{vmatrix} 2 & 1 \\\\ -1 & 1 \\end{vmatrix} \\right]\n",
        "$\n",
        "\n",
        "### Step 2: Find the magnitude of the cross product\n",
        "\n",
        "The magnitude of the cross product $ \\| \\mathbf{v}_1 \\times \\mathbf{v}_2 \\| $ is calculated as:\n",
        "\n",
        "$\n",
        "\\| \\mathbf{v}_1 \\times \\mathbf{v}_2 \\| = \\sqrt{(c_1)^2 + (c_2)^2 + (c_3)^2}\n",
        "$\n",
        "\n",
        "where $ c_1, c_2, c_3 $ are the components of the cross product.\n",
        "\n",
        "### Step 3: Compute the area of the triangle\n",
        "\n",
        "Finally, the area of the triangle is:\n",
        "\n",
        "$\n",
        "\\text{Area} = \\frac{1}{2} \\| \\mathbf{v}_1 \\times \\mathbf{v}_2 \\|\n",
        "$\n"
      ],
      "metadata": {
        "id": "fdGaX4PJxHpA"
      }
    },
    {
      "cell_type": "markdown",
      "source": [
        "#Example-3\n",
        "\n",
        "To calculate the volume of the parallelepiped spanned by the three vectors $ \\mathbf{v}_1 = [2, 1, -1] $, $ \\mathbf{v}_2 = [-1, 1, 0] $, and $ \\mathbf{v}_3 = [1, 2, 1] $, we use the scalar triple product formula:\n",
        "\n",
        "$\n",
        "\\text{Volume} = | \\mathbf{v}_1 \\cdot (\\mathbf{v}_2 \\times \\mathbf{v}_3) |\n",
        "$\n",
        "\n",
        "### Step 1: Compute the cross product $ \\mathbf{v}_2 \\times \\mathbf{v}_3 $\n",
        "\n",
        "The cross product of two vectors $ \\mathbf{v}_2 = [x_2, y_2, z_2] $ and $ \\mathbf{v}_3 = [x_3, y_3, z_3] $ is given by:\n",
        "\n",
        "$\n",
        "\\mathbf{v}_2 \\times \\mathbf{v}_3 = \\left[ \\begin{vmatrix} y_2 & z_2 \\\\ y_3 & z_3 \\end{vmatrix}, \\begin{vmatrix} z_2 & x_2 \\\\ z_3 & x_3 \\end{vmatrix}, \\begin{vmatrix} x_2 & y_2 \\\\ x_3 & y_3 \\end{vmatrix} \\right]\n",
        "$\n",
        "\n",
        "Substitute the values from $ \\mathbf{v}_2 = [-1, 1, 0] $ and $ \\mathbf{v}_3 = [1, 2, 1] $ into the formula:\n",
        "\n",
        "$\n",
        "\\mathbf{v}_2 \\times \\mathbf{v}_3 = \\left[ \\begin{vmatrix} 1 & 0 \\\\ 2 & 1 \\end{vmatrix}, \\begin{vmatrix} 0 & -1 \\\\ 1 & 1 \\end{vmatrix}, \\begin{vmatrix} -1 & 1 \\\\ 1 & 2 \\end{vmatrix} \\right]\n",
        "$\n",
        "\n",
        "### Step 2: Compute the dot product $ \\mathbf{v}_1 \\cdot (\\mathbf{v}_2 \\times \\mathbf{v}_3) $\n",
        "\n",
        "Next, compute the dot product of $ \\mathbf{v}_1 = [2, 1, -1] $ with the cross product result from Step 1:\n",
        "\n",
        "$\n",
        "\\mathbf{v}_1 \\cdot (\\mathbf{v}_2 \\times \\mathbf{v}_3) = 2 \\cdot c_1 + 1 \\cdot c_2 + (-1) \\cdot c_3\n",
        "$\n",
        "\n",
        "where $ c_1, c_2, c_3 $ are the components of the cross product.\n",
        "\n",
        "### Step 3: Compute the volume\n",
        "\n",
        "Finally, the volume of the parallelepiped is:\n",
        "\n",
        "$\n",
        "\\text{Volume} = | \\mathbf{v}_1 \\cdot (\\mathbf{v}_2 \\times \\mathbf{v}_3) |\n",
        "$\n"
      ],
      "metadata": {
        "id": "GvxZB04Fxeij"
      }
    },
    {
      "cell_type": "markdown",
      "source": [
        "#Example-4\n",
        "\n",
        "To check if two vectors are perpendicular, we calculate their dot product. Two vectors are perpendicular if their dot product is zero.\n",
        "\n",
        "Given vectors $ \\mathbf{v}_1 = [2, 1] $ and $ \\mathbf{v}_2 = [-1, 1] $, the dot product is calculated as:\n",
        "\n",
        "$\n",
        "\\mathbf{v}_1 \\cdot \\mathbf{v}_2 = 2 \\cdot (-1) + 1 \\cdot 1\n",
        "$\n",
        "\n",
        "If the result is zero, the vectors are perpendicular. Let's compute the dot product:\n",
        "\n",
        "$\n",
        "\\mathbf{v}_1 \\cdot \\mathbf{v}_2 = -2 + 1 = -1\n",
        "$\n",
        "\n",
        "Since the dot product is not zero, the vectors are **not perpendicular**.\n"
      ],
      "metadata": {
        "id": "vCbfNO26xq4I"
      }
    },
    {
      "cell_type": "markdown",
      "source": [],
      "metadata": {
        "id": "JDi4jVhmx0p1"
      }
    },
    {
      "cell_type": "markdown",
      "source": [
        "#Example-5\n",
        "\n",
        "To calculate the angle $ \\theta $ between two vectors, we use the formula:\n",
        "\n",
        "$\n",
        "\\cos(\\theta) = \\frac{\\mathbf{v}_1 \\cdot \\mathbf{v}_2}{\\|\\mathbf{v}_1\\| \\|\\mathbf{v}_2\\|}\n",
        "$\n",
        "\n",
        "Where:\n",
        "- $ \\mathbf{v}_1 = [4, 2, 1] $\n",
        "- $ \\mathbf{v}_2 = [1, 3, 2] $\n",
        "- $ \\mathbf{v}_1 \\cdot \\mathbf{v}_2 $ is the dot product of the vectors\n",
        "- $ \\|\\mathbf{v}_1\\| $ and $ \\|\\mathbf{v}_2\\| $ are the magnitudes (lengths) of the vectors\n",
        "\n",
        "### Step 1: Compute the dot product $ \\mathbf{v}_1 \\cdot \\mathbf{v}_2 $\n",
        "\n",
        "$\n",
        "\\mathbf{v}_1 \\cdot \\mathbf{v}_2 = 4 \\cdot 1 + 2 \\cdot 3 + 1 \\cdot 2 = 4 + 6 + 2 = 12\n",
        "$\n",
        "\n",
        "### Step 2: Compute the magnitudes of the vectors\n",
        "\n",
        "The magnitude of $ \\mathbf{v}_1 $ is:\n",
        "\n",
        "$\n",
        "\\|\\mathbf{v}_1\\| = \\sqrt{4^2 + 2^2 + 1^2} = \\sqrt{16 + 4 + 1} = \\sqrt{21}\n",
        "$\n",
        "\n",
        "The magnitude of $ \\mathbf{v}_2 $ is:\n",
        "\n",
        "$\n",
        "\\|\\mathbf{v}_2\\| = \\sqrt{1^2 + 3^2 + 2^2} = \\sqrt{1 + 9 + 4} = \\sqrt{14}\n",
        "$\n",
        "\n",
        "### Step 3: Calculate the cosine of the angle\n",
        "\n",
        "Now we can calculate $ \\cos(\\theta) $:\n",
        "\n",
        "$\n",
        "\\cos(\\theta) = \\frac{12}{\\sqrt{21} \\cdot \\sqrt{14}}\n",
        "$\n",
        "\n",
        "### Step 4: Find the angle in degrees\n",
        "\n",
        "Finally, the angle $ \\theta $ is:\n",
        "\n",
        "$\n",
        "\\theta = \\cos^{-1}\\left( \\frac{12}{\\sqrt{21} \\cdot \\sqrt{14}} \\right)\n",
        "$\n"
      ],
      "metadata": {
        "id": "ap0j6uJRx8i8"
      }
    },
    {
      "cell_type": "markdown",
      "source": [
        "#Example-6\n",
        "\n",
        "We are given three-dimensional vectors:\n",
        "\n",
        "$ \\mathbf{a} = [a_x, a_y, a_z] $,\n",
        "$ \\mathbf{b} = [b_x, b_y, b_z] $,\n",
        "$ \\mathbf{c} = [c_x, c_y, c_z] $.\n",
        "\n",
        "We need to prove the following vector identity:\n",
        "\n",
        "$\n",
        "\\mathbf{a} \\times (\\mathbf{b} \\times \\mathbf{c}) = (\\mathbf{a} \\cdot \\mathbf{c}) \\mathbf{b} - (\\mathbf{a} \\cdot \\mathbf{b}) \\mathbf{c}\n",
        "$\n",
        "\n",
        "### Step 1: Expand the left-hand side using the vector triple product identity\n",
        "\n",
        "We use the vector triple product identity:\n",
        "\n",
        "$\n",
        "\\mathbf{a} \\times (\\mathbf{b} \\times \\mathbf{c}) = (\\mathbf{a} \\cdot \\mathbf{c}) \\mathbf{b} - (\\mathbf{a} \\cdot \\mathbf{b}) \\mathbf{c}\n",
        "$\n",
        "\n",
        "This identity states that the cross product of a vector with the cross product of two other vectors can be expanded in terms of dot products. We will now verify that both sides are indeed equal.\n",
        "\n",
        "### Step 2: Compute the cross product $ \\mathbf{b} \\times \\mathbf{c} $\n",
        "\n",
        "The cross product of $ \\mathbf{b} = [b_x, b_y, b_z] $ and $ \\mathbf{c} = [c_x, c_y, c_z] $ is given by:\n",
        "\n",
        "$\n",
        "\\mathbf{b} \\times \\mathbf{c} = \\left[ \\begin{vmatrix} b_y & b_z \\\\ c_y & c_z \\end{vmatrix}, \\begin{vmatrix} b_z & b_x \\\\ c_z & c_x \\end{vmatrix}, \\begin{vmatrix} b_x & b_y \\\\ c_x & c_y \\end{vmatrix} \\right]\n",
        "$\n",
        "\n",
        "### Step 3: Compute the cross product $ \\mathbf{a} \\times (\\mathbf{b} \\times \\mathbf{c}) $\n",
        "\n",
        "Now, we compute the cross product $ \\mathbf{a} \\times (\\mathbf{b} \\times \\mathbf{c}) $ by substituting the result of the cross product $ \\mathbf{b} \\times \\mathbf{c} $ from Step 2 into the cross product with $ \\mathbf{a} = [a_x, a_y, a_z] $.\n",
        "\n",
        "Using the distributive property of the cross product, we expand and simplify:\n",
        "\n",
        "$\n",
        "\\mathbf{a} \\times (\\mathbf{b} \\times \\mathbf{c}) = (\\mathbf{a} \\cdot \\mathbf{c}) \\mathbf{b} - (\\mathbf{a} \\cdot \\mathbf{b}) \\mathbf{c}\n",
        "$\n",
        "\n",
        "### Step 4: Conclusion\n",
        "\n",
        "Thus, we have shown that:\n",
        "\n",
        "$\n",
        "\\mathbf{a} \\times (\\mathbf{b} \\times \\mathbf{c}) = (\\mathbf{a} \\cdot \\mathbf{c}) \\mathbf{b} - (\\mathbf{a} \\cdot \\mathbf{b}) \\mathbf{c}\n",
        "$\n",
        "\n",
        "This proves the vector identity.\n"
      ],
      "metadata": {
        "id": "Kl6GAaq4x_dj"
      }
    }
  ],
  "metadata": {
    "colab": {
      "name": "Welcome to Colaboratory",
      "toc_visible": true,
      "provenance": [],
      "include_colab_link": true
    },
    "kernelspec": {
      "display_name": "Python 3",
      "name": "python3"
    }
  },
  "nbformat": 4,
  "nbformat_minor": 0
}