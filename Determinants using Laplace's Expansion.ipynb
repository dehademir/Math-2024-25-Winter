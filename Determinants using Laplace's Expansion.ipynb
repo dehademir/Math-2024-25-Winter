{
  "cells": [
    {
      "cell_type": "markdown",
      "metadata": {
        "id": "view-in-github",
        "colab_type": "text"
      },
      "source": [
        "<a href=\"https://colab.research.google.com/github/dehademir/Math-2024-25-Winter/blob/main/Determinants%20using%20Laplace's%20Expansion.ipynb\" target=\"_parent\"><img src=\"https://colab.research.google.com/assets/colab-badge.svg\" alt=\"Open In Colab\"/></a>"
      ]
    },
    {
      "cell_type": "markdown",
      "source": [
        "## Determinant of a 4x4 Matrix using Laplace Expansion\n",
        "\n",
        "The general formula for the determinant of a 4x4 matrix, where the matrix looks as follows:\n",
        "\n",
        "$$\n",
        "\\mathbf{B} =\n",
        "\\begin{pmatrix}\n",
        "a_{11} & a_{12} & a_{13} & a_{14} \\\\\n",
        "a_{21} & a_{22} & a_{23} & a_{24} \\\\\n",
        "a_{31} & a_{32} & a_{33} & a_{34} \\\\\n",
        "a_{41} & a_{42} & a_{43} & a_{44}\n",
        "\\end{pmatrix}\n",
        "$$\n",
        "\n",
        "The determinant of a 4x4 matrix is calculated by expanding along the first row. Similar to the 3x3 case, elements of the first row are multiplied by the determinants of the 3x3 matrices that result from removing the appropriate rows and columns.\n",
        "\n",
        "Expanding along the first row of a 4x4 matrix:\n",
        "\n",
        "$$\n",
        "\\text{det}(B) =\n",
        "(-1)^{1+1} \\cdot\n",
        "a_{11} \\cdot \\text{det}\n",
        "\\begin{pmatrix}\n",
        "a_{22} & a_{23} & a_{24} \\\\\n",
        "a_{32} & a_{33} & a_{34} \\\\\n",
        "a_{42} & a_{43} & a_{44}\n",
        "\\end{pmatrix}\n",
        "+ (-1)^{1+2} \\cdot\n",
        "a_{12} \\cdot \\text{det}\n",
        "\\begin{pmatrix}\n",
        "a_{21} & a_{23} & a_{24} \\\\\n",
        "a_{31} & a_{33} & a_{34} \\\\\n",
        "a_{41} & a_{43} & a_{44}\n",
        "\\end{pmatrix}\n",
        "+ (-1)^{1+3} \\cdot\n",
        "a_{13} \\cdot \\text{det}\n",
        "\\begin{pmatrix}\n",
        "a_{21} & a_{22} & a_{24} \\\\\n",
        "a_{31} & a_{32} & a_{34} \\\\\n",
        "a_{41} & a_{42} & a_{44}\n",
        "\\end{pmatrix}\n",
        "+ (-1)^{1+4} \\cdot\n",
        "a_{14} \\cdot \\text{det}\n",
        "\\begin{pmatrix}\n",
        "a_{21} & a_{22} & a_{23} \\\\\n",
        "a_{31} & a_{32} & a_{33} \\\\\n",
        "a_{41} & a_{42} & a_{43}\n",
        "\\end{pmatrix}\n",
        "$$\n",
        "\n",
        "### Example of a 4x4 Matrix\n",
        "\n",
        "For the matrix:\n",
        "\n",
        "$$\n",
        "\\mathbf{B} =\n",
        "\\begin{pmatrix}\n",
        "2 & 3 & 1 & 4 \\\\\n",
        "1 & 4 & 5 & 6 \\\\\n",
        "3 & 2 & 1 & 5 \\\\\n",
        "2 & 1 & 4 & 3\n",
        "\\end{pmatrix}\n",
        "$$\n",
        "\n",
        "Laplace expansion:$$\n",
        "\\text{det}(B) = 2 \\cdot \\text{det}\n",
        "\\begin{pmatrix}\n",
        "4 & 5 & 6 \\\\\n",
        "2 & 1 & 5 \\\\\n",
        "1 & 4 & 3\n",
        "\\end{pmatrix}\n",
        "- 3 \\cdot \\text{det}\n",
        "\\begin{pmatrix}\n",
        "1 & 5 & 6 \\\\\n",
        "3 & 1 & 5 \\\\\n",
        "2 & 4 & 3\n",
        "\\end{pmatrix}\n",
        "+ 1 \\cdot \\text{det}\n",
        "\\begin{pmatrix}\n",
        "1 & 4 & 6 \\\\\n",
        "3 & 2 & 5 \\\\\n",
        "2 & 1 & 3\n",
        "\\end{pmatrix}\n",
        "- 4 \\cdot \\text{det}\n",
        "\\begin{pmatrix}\n",
        "1 & 4 & 5 \\\\\n",
        "3 & 2 & 1 \\\\\n",
        "2 & 1 & 4\n",
        "\\end{pmatrix}\n",
        "$$\n",
        "\n",
        "### Calculating Determinants in Python using SymPy\n",
        "\n",
        "Below we will calculate the determinants of 3x3 and 4x4 matrices using Laplace expansion in Python, using the **SymPy** library."
      ],
      "metadata": {
        "id": "3jd7dnKtuxz_"
      }
    },
    {
      "cell_type": "code",
      "source": [
        "import sympy as sp\n",
        "\n",
        "#3x3 Matrix\n",
        "A=sp.Matrix([[2,3,1],[1,4,5],[3,2,1]])\n"
      ],
      "metadata": {
        "id": "rOR037uLO5bA"
      },
      "execution_count": 18,
      "outputs": []
    },
    {
      "cell_type": "code",
      "source": [
        "A"
      ],
      "metadata": {
        "id": "eDv613t3O8Au",
        "outputId": "12823127-edcd-4c51-8af2-3f56f19ddc27",
        "colab": {
          "base_uri": "https://localhost:8080/",
          "height": 78
        }
      },
      "execution_count": 19,
      "outputs": [
        {
          "output_type": "execute_result",
          "data": {
            "text/plain": [
              "Matrix([\n",
              "[2, 3, 1],\n",
              "[1, 4, 5],\n",
              "[3, 2, 1]])"
            ],
            "text/latex": "$\\displaystyle \\left[\\begin{matrix}2 & 3 & 1\\\\1 & 4 & 5\\\\3 & 2 & 1\\end{matrix}\\right]$"
          },
          "metadata": {},
          "execution_count": 19
        }
      ]
    },
    {
      "cell_type": "code",
      "source": [
        "# Select the first row [2,3,1]\n",
        "# Define the appropriate minors\n",
        "M11=sp.det(sp.Matrix([[4,5],[2,1]]))\n",
        "M12=sp.det(sp.Matrix([[1,5],[3,1]]))\n",
        "M13=sp.det(sp.Matrix([[1,4],[3,2]]))\n",
        "\n",
        "# Calculate the determinant\n",
        "d=2*M11-3*M12+1*M13\n",
        "d"
      ],
      "metadata": {
        "id": "8z2dARhbO9NN",
        "outputId": "172bca5e-8a7e-40da-c346-53f9773c613f",
        "colab": {
          "base_uri": "https://localhost:8080/",
          "height": 37
        }
      },
      "execution_count": 20,
      "outputs": [
        {
          "output_type": "execute_result",
          "data": {
            "text/plain": [
              "20"
            ],
            "text/latex": "$\\displaystyle 20$"
          },
          "metadata": {},
          "execution_count": 20
        }
      ]
    },
    {
      "cell_type": "code",
      "source": [
        "sp.det(A)\n",
        "d == A.det()"
      ],
      "metadata": {
        "id": "Ez1LZ7nNO-V9",
        "outputId": "353cfb61-24f0-46c0-f93a-9c1de9d50bc4",
        "colab": {
          "base_uri": "https://localhost:8080/"
        }
      },
      "execution_count": 22,
      "outputs": [
        {
          "output_type": "execute_result",
          "data": {
            "text/plain": [
              "True"
            ]
          },
          "metadata": {},
          "execution_count": 22
        }
      ]
    },
    {
      "cell_type": "code",
      "source": [
        "# 4x4 Matrix\n",
        "B=sp.Matrix([[2,3,1,4],[1,4,5,6],[3,2,1,5],[2,1,4,3]])\n",
        "B"
      ],
      "metadata": {
        "id": "pm3N9YMsPCZI",
        "outputId": "34630fee-396a-45b7-a997-64560cf92f15",
        "colab": {
          "base_uri": "https://localhost:8080/",
          "height": 98
        }
      },
      "execution_count": 23,
      "outputs": [
        {
          "output_type": "execute_result",
          "data": {
            "text/plain": [
              "Matrix([\n",
              "[2, 3, 1, 4],\n",
              "[1, 4, 5, 6],\n",
              "[3, 2, 1, 5],\n",
              "[2, 1, 4, 3]])"
            ],
            "text/latex": "$\\displaystyle \\left[\\begin{matrix}2 & 3 & 1 & 4\\\\1 & 4 & 5 & 6\\\\3 & 2 & 1 & 5\\\\2 & 1 & 4 & 3\\end{matrix}\\right]$"
          },
          "metadata": {},
          "execution_count": 23
        }
      ]
    },
    {
      "cell_type": "code",
      "source": [
        "# Verify correctness of the calculation\n",
        "M11=sp.Matrix([[4,5,6],[2,1,5],[1,4,3]])\n",
        "M12=sp.Matrix([[1,5,6],[3,1,5],[2,4,3]])\n",
        "M13=sp.Matrix([[1,4,6],[3,2,5],[2,1,3]])\n",
        "M14=sp.Matrix([[1,4,5],[3,2,1],[2,1,4]])\n",
        "\n",
        "(2*M11.det()-3*M12.det()+1*M13.det()-4*M14.det())==B.det()\n",
        "\n",
        "d=2*M11.det()-3*M12.det()+1*M13.det()-4*M14.det()\n",
        "d"
      ],
      "metadata": {
        "id": "WKPOUIsaPEfy",
        "outputId": "3d8fa83d-bdab-41e8-8007-061bcbc3c475",
        "colab": {
          "base_uri": "https://localhost:8080/",
          "height": 37
        }
      },
      "execution_count": 24,
      "outputs": [
        {
          "output_type": "execute_result",
          "data": {
            "text/plain": [
              "-55"
            ],
            "text/latex": "$\\displaystyle -55$"
          },
          "metadata": {},
          "execution_count": 24
        }
      ]
    },
    {
      "cell_type": "code",
      "source": [
        "d==B.det()"
      ],
      "metadata": {
        "id": "3BG4Vx5vPFwV",
        "outputId": "a064c253-6902-44a4-d522-692c21fd87b7",
        "colab": {
          "base_uri": "https://localhost:8080/"
        }
      },
      "execution_count": 25,
      "outputs": [
        {
          "output_type": "execute_result",
          "data": {
            "text/plain": [
              "True"
            ]
          },
          "metadata": {},
          "execution_count": 25
        }
      ]
    },
    {
      "cell_type": "markdown",
      "source": [
        "Note that only the first and third terms have non-zero coefficients, so it is not necessary to calculate the determinants of all minors!\n",
        "\n",
        "---\n",
        "\n",
        "## Exercises for Students\n",
        "\n",
        "Calculate the determinants of the following matrices:\n",
        "\n",
        "$$\n",
        "\\mathbf{A} =\n",
        "\\begin{pmatrix}\n",
        "2 & 3 & 1 \\\\\n",
        "1 & 4 & 0 \\\\\n",
        "3 & 2 & 1\n",
        "\\end{pmatrix}\n",
        ",\\qquad\n",
        "\\mathbf{B} =\n",
        "\\begin{pmatrix}\n",
        "2 & 3 & 1 \\\\\n",
        "1 & 4 & 0 \\\\\n",
        "3 & 2 & 0  \\\\\n",
        "\\end{pmatrix}\n",
        ",\\qquad\n",
        "\\mathbf{C} =\n",
        "\\begin{pmatrix}\n",
        "2 & 3 & 1 & 4 \\\\\n",
        "1 & 0 & 0 & 6 \\\\\n",
        "3 & 2 & 1 & 5 \\\\\n",
        "2 & 1 & 4 & 0\n",
        "\\end{pmatrix}\n",
        ",\\qquad\n",
        "\\mathbf{D} =\n",
        "\\begin{pmatrix}\n",
        "2 & 3 & 1 & 4 & 5 \\\\\n",
        "1 & 4 & 0 & 0 & 7 \\\\\n",
        "3 & 0 & 0 & 0 & 0 \\\\\n",
        "2 & 1 & 4 & 3 & 2 \\\\\n",
        "1 & 2 & 3 & 4 & 5\n",
        "\\end{pmatrix}\n",
        "$$"
      ],
      "metadata": {
        "id": "VbcAAUVu1cuj"
      }
    },
    {
      "cell_type": "code",
      "source": [
        "import sympy as sp\n",
        "A=sp.Matrix([[2,3,1],[1,4,0],[3,2,1]])\n",
        "\n",
        "M11=sp.Matrix([[4,0],[2,1]])\n",
        "M12=sp.Matrix([[1,0],[3,1]])\n",
        "M13=sp.Matrix([[1,4],[3,2]])\n",
        "\n",
        "d=(2*M11.det()-3*M12.det()+1*M13.det())\n",
        "d"
      ],
      "metadata": {
        "id": "Ru5xzTIXPJCf",
        "outputId": "d93eaca8-a39f-40e6-ccc2-3f9dffdeddba",
        "colab": {
          "base_uri": "https://localhost:8080/",
          "height": 37
        }
      },
      "execution_count": 26,
      "outputs": [
        {
          "output_type": "execute_result",
          "data": {
            "text/plain": [
              "-5"
            ],
            "text/latex": "$\\displaystyle -5$"
          },
          "metadata": {},
          "execution_count": 26
        }
      ]
    },
    {
      "cell_type": "code",
      "source": [
        "d==A.det()"
      ],
      "metadata": {
        "id": "c-4X8KZbPLvd",
        "outputId": "3161605e-8a9d-4297-da75-d07d984a64fb",
        "colab": {
          "base_uri": "https://localhost:8080/"
        }
      },
      "execution_count": 27,
      "outputs": [
        {
          "output_type": "execute_result",
          "data": {
            "text/plain": [
              "True"
            ]
          },
          "metadata": {},
          "execution_count": 27
        }
      ]
    },
    {
      "cell_type": "code",
      "source": [
        "import sympy as sp\n",
        "B=sp.Matrix([[2,3,1],[1,4,0],[3,2,0]])\n",
        "\n",
        "M11=sp.Matrix([[4,0],[2,0]])\n",
        "M12=sp.Matrix([[1,0],[3,0]])\n",
        "M13=sp.Matrix([[1,4],[3,2]])\n",
        "\n",
        "d=(2*M11.det()-3*M12.det()+1*M13.det())\n",
        "d\n"
      ],
      "metadata": {
        "id": "c1JMqjo6PM3j",
        "outputId": "932ce9f5-d602-40c8-cbfe-d1cf471a631c",
        "colab": {
          "base_uri": "https://localhost:8080/",
          "height": 37
        }
      },
      "execution_count": 28,
      "outputs": [
        {
          "output_type": "execute_result",
          "data": {
            "text/plain": [
              "-10"
            ],
            "text/latex": "$\\displaystyle -10$"
          },
          "metadata": {},
          "execution_count": 28
        }
      ]
    },
    {
      "cell_type": "code",
      "source": [
        "detvalue=1*(-10)-0+0"
      ],
      "metadata": {
        "id": "d5_h6HimPOTm"
      },
      "execution_count": 29,
      "outputs": []
    },
    {
      "cell_type": "code",
      "source": [
        "B.det()"
      ],
      "metadata": {
        "id": "G5HUk9VSPPzO",
        "outputId": "6ea7b22c-74e5-4910-a30f-facbfaa87780",
        "colab": {
          "base_uri": "https://localhost:8080/",
          "height": 37
        }
      },
      "execution_count": 30,
      "outputs": [
        {
          "output_type": "execute_result",
          "data": {
            "text/plain": [
              "-10"
            ],
            "text/latex": "$\\displaystyle -10$"
          },
          "metadata": {},
          "execution_count": 30
        }
      ]
    },
    {
      "cell_type": "code",
      "source": [
        "d==B.det()"
      ],
      "metadata": {
        "id": "TFOwQ3QJPQuE",
        "outputId": "89ed9392-fd5e-4787-c152-8de488ef9f88",
        "colab": {
          "base_uri": "https://localhost:8080/"
        }
      },
      "execution_count": 31,
      "outputs": [
        {
          "output_type": "execute_result",
          "data": {
            "text/plain": [
              "True"
            ]
          },
          "metadata": {},
          "execution_count": 31
        }
      ]
    },
    {
      "cell_type": "code",
      "source": [
        "import sympy as sp\n",
        "C=sp.Matrix([[2,3,1,4],[1,0,0,6],[3,2,1,5],[2,1,4,0]])\n",
        "\n",
        "M11=sp.Matrix([[0,0,6],[2,1,5],[1,4,0]])\n",
        "M12=sp.Matrix([[1,0,6],[3,1,5],[2,4,0]])\n",
        "M13=sp.Matrix([[1,0,6],[3,2,5],[2,1,0]])\n",
        "M14=sp.Matrix([[1,0,0],[3,2,1],[2,1,4]])\n",
        "\n",
        "d=(2*M11.det()-3*M12.det()+1*M13.det()-4*M14.det())\n",
        "d"
      ],
      "metadata": {
        "id": "oDettpIXPSMB",
        "outputId": "89b19cde-2a40-4a18-bd7b-073a0f20e4f6",
        "colab": {
          "base_uri": "https://localhost:8080/",
          "height": 37
        }
      },
      "execution_count": 32,
      "outputs": [
        {
          "output_type": "execute_result",
          "data": {
            "text/plain": [
              "-75"
            ],
            "text/latex": "$\\displaystyle -75$"
          },
          "metadata": {},
          "execution_count": 32
        }
      ]
    },
    {
      "cell_type": "code",
      "source": [
        "d==C.det()"
      ],
      "metadata": {
        "id": "u1UGILOlPThh",
        "outputId": "e6204db0-e627-412d-d441-95caa5df2ba9",
        "colab": {
          "base_uri": "https://localhost:8080/"
        }
      },
      "execution_count": 33,
      "outputs": [
        {
          "output_type": "execute_result",
          "data": {
            "text/plain": [
              "True"
            ]
          },
          "metadata": {},
          "execution_count": 33
        }
      ]
    },
    {
      "cell_type": "markdown",
      "source": [
        "### D\n",
        "The first row is:$\\begin{pmatrix}2 & 3 & 1 & 4 & 5\\end{pmatrix}$\n",
        "\n",
        "$\\det(\\mathbf{D}) = 2 \\cdot \\det(\\mathbf{M}_{11}) - 3 \\cdot \\det(\\mathbf{M}_{12}) + 1 \\cdot \\det(\\mathbf{M}_{13}) - 4 \\cdot \\det(\\mathbf{M}_{14}) + 5 \\cdot \\det(\\mathbf{M}_{15}),$\n",
        "\n",
        "$\\mathbf{M}_{11} =\n",
        "\\begin{pmatrix}\n",
        "4 & 0 & 0 & 7 \\\\\n",
        "0 & 0 & 0 & 0 \\\\\n",
        "1 & 4 & 3 & 2 \\\\\n",
        "2 & 3 & 4 & 5\n",
        "\\end{pmatrix}$\n",
        "\n",
        "$\\mathbf{M}_{12} =\n",
        "\\begin{pmatrix}\n",
        "1 & 0 & 0 & 7 \\\\\n",
        "3 & 0 & 0 & 0 \\\\\n",
        "2 & 4 & 3 & 2 \\\\\n",
        "1 & 3 & 4 & 5\n",
        "\\end{pmatrix}$\n",
        "\n",
        "$\\mathbf{M}_{13} =\n",
        "\\begin{pmatrix}\n",
        "1 & 4 & 0 & 7 \\\\\n",
        "3 & 0 & 0 & 0 \\\\\n",
        "2 & 1 & 3 & 2 \\\\\n",
        "1 & 2 & 4 & 5\n",
        "\\end{pmatrix}$\n",
        "\n",
        "$\\mathbf{M}_{14} =\n",
        "\\begin{pmatrix}\n",
        "1 & 4 & 0 & 7 \\\\\n",
        "3 & 0 & 0 & 0 \\\\\n",
        "2 & 1 & 4 & 2 \\\\\n",
        "1 & 2 & 3 & 5\n",
        "\\end{pmatrix}$\n",
        "\n",
        "$\\mathbf{M}_{15} =\n",
        "\\begin{pmatrix}\n",
        "1 & 4 & 0 & 0 \\\\\n",
        "3 & 0 & 0 & 0 \\\\\n",
        "2 & 1 & 4 & 3 \\\\\n",
        "1 & 2 & 3 & 4\n",
        "\\end{pmatrix}$\n",
        "\n",
        "$\\det(\\mathbf{D}) = 2 \\cdot \\det(\\mathbf{M}_{11}) - 3 \\cdot \\det(\\mathbf{M}_{12}) + 1 \\cdot \\det(\\mathbf{M}_{13}) - 4 \\cdot \\det(\\mathbf{M}_{14}) + 5 \\cdot \\det(\\mathbf{M}_{15}).$\n",
        "\n",
        "$\\det(\\mathbf{D}) = 231$"
      ],
      "metadata": {
        "id": "inTPbPbZA_us"
      }
    }
  ],
  "metadata": {
    "colab": {
      "name": "Welcome To Colab",
      "toc_visible": true,
      "provenance": [],
      "include_colab_link": true
    },
    "kernelspec": {
      "display_name": "Python 3",
      "name": "python3"
    }
  },
  "nbformat": 4,
  "nbformat_minor": 0
}