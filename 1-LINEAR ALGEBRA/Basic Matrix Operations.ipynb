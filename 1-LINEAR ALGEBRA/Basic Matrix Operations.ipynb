{
  "cells": [
    {
      "cell_type": "markdown",
      "metadata": {
        "id": "view-in-github",
        "colab_type": "text"
      },
      "source": [
        "<a href=\"https://colab.research.google.com/github/dehademir/Math-2024-25-Winter/blob/main/Basic%20Matrix%20Operations.ipynb\" target=\"_parent\"><img src=\"https://colab.research.google.com/assets/colab-badge.svg\" alt=\"Open In Colab\"/></a>"
      ]
    },
    {
      "cell_type": "code",
      "source": [
        "# Exercise 1: Matrix addition\n",
        "import sympy as sp\n",
        "\n",
        "A=sp.Matrix([[1,2],[3,4]])\n",
        "B=sp.Matrix([[5,6],[7,8]])\n",
        "A+B # add matrices A and B"
      ],
      "metadata": {
        "id": "8AD7yQOaI9oU",
        "outputId": "11ab3207-7f5e-4f8c-9c05-5f1dc65a89c4",
        "colab": {
          "base_uri": "https://localhost:8080/",
          "height": 58
        }
      },
      "execution_count": 1,
      "outputs": [
        {
          "output_type": "execute_result",
          "data": {
            "text/plain": [
              "Matrix([\n",
              "[ 6,  8],\n",
              "[10, 12]])"
            ],
            "text/latex": "$\\displaystyle \\left[\\begin{matrix}6 & 8\\\\10 & 12\\end{matrix}\\right]$"
          },
          "metadata": {},
          "execution_count": 1
        }
      ]
    },
    {
      "cell_type": "code",
      "source": [
        "# Exercise 2: Multiplication of a scalar and matrix\n",
        "import sympy as sp\n",
        "\n",
        "A=sp.Matrix([[4,2],[12,4]]) # define matrix A\n",
        "k=sp.Rational(1,4) # define scalar k\n",
        "A*k # multiply matrix A and scalar k"
      ],
      "metadata": {
        "id": "5dlJbsyBJK-I",
        "outputId": "6f3e37cc-bfe4-4134-fa20-e85798fcd4f4",
        "colab": {
          "base_uri": "https://localhost:8080/",
          "height": 58
        }
      },
      "execution_count": 2,
      "outputs": [
        {
          "output_type": "execute_result",
          "data": {
            "text/plain": [
              "Matrix([\n",
              "[1, 1/2],\n",
              "[3,   1]])"
            ],
            "text/latex": "$\\displaystyle \\left[\\begin{matrix}1 & \\frac{1}{2}\\\\3 & 1\\end{matrix}\\right]$"
          },
          "metadata": {},
          "execution_count": 2
        }
      ]
    },
    {
      "cell_type": "markdown",
      "source": [
        "## Exercises for Students (old version)\n",
        "\n",
        "1. Calculate the sum of matrices $A=\\begin{bmatrix} 1 & 2 \\\\ 3 & 4 \\end{bmatrix}$ and $B=\\begin{bmatrix} 5 & 6 \\\\ 7 & 8 \\end{bmatrix}$.\n",
        "\n",
        "2. Calculate the product of matrix $A=\\begin{bmatrix} 4 & 2 \\\\ 12 & 4 \\end{bmatrix}$ and scalar $k=\\frac{1}{4}$.\n",
        "\n",
        "3. Calculate the products $A\\cdot B$ and $B \\cdot A$ for matrices $A=\\begin{bmatrix} 3 & 2 \\\\ 2 & 4 \\end{bmatrix}$ and $B=\\begin{bmatrix} 4 & 1 \\\\ 6 & 4 \\end{bmatrix}$."
      ],
      "metadata": {
        "id": "NBoWHUuefuLj"
      }
    },
    {
      "cell_type": "code",
      "source": [
        "# 4x4 Matrix\n",
        "B = sp.Matrix([[2, 0, 1, 0], [1, 4, 5, 6], [3, 2, 1, 5], [2, 1, 4, 3]])\n",
        "B"
      ],
      "metadata": {
        "id": "AVhtgklGK8qc",
        "outputId": "ee273365-9dff-4944-dd7d-c0043326e87f",
        "colab": {
          "base_uri": "https://localhost:8080/",
          "height": 98
        }
      },
      "execution_count": 3,
      "outputs": [
        {
          "output_type": "execute_result",
          "data": {
            "text/plain": [
              "Matrix([\n",
              "[2, 0, 1, 0],\n",
              "[1, 4, 5, 6],\n",
              "[3, 2, 1, 5],\n",
              "[2, 1, 4, 3]])"
            ],
            "text/latex": "$\\displaystyle \\left[\\begin{matrix}2 & 0 & 1 & 0\\\\1 & 4 & 5 & 6\\\\3 & 2 & 1 & 5\\\\2 & 1 & 4 & 3\\end{matrix}\\right]$"
          },
          "metadata": {},
          "execution_count": 3
        }
      ]
    },
    {
      "cell_type": "code",
      "source": [
        "# Verify the correctness of the calculations\n",
        "M11 = sp.Matrix([[4, 5, 6], [2, 1, 5], [1, 4, 3]])\n",
        "M12 = sp.Matrix([[1, 5, 6], [3, 1, 5], [2, 4, 3]])\n",
        "M13 = sp.Matrix([[1, 4, 6], [3, 2, 5], [2, 1, 3]])\n",
        "M14 = sp.Matrix([[1, 4, 5], [3, 2, 1], [2, 1, 4]])\n",
        "\n",
        "(2*M11.det() - 0*M12.det() + 1*M13.det() - 0*M14.det()) == B.det()\n",
        "\n",
        "d = 2*M11.det() - 0*M12.det() + 1*M13.det() - 0*M14.det()\n",
        "d == B.det()"
      ],
      "metadata": {
        "id": "SRM6DqMtK_FQ",
        "outputId": "dd7bcaab-7c38-4897-c1a5-0f2b4ad4a146",
        "colab": {
          "base_uri": "https://localhost:8080/"
        }
      },
      "execution_count": 4,
      "outputs": [
        {
          "output_type": "execute_result",
          "data": {
            "text/plain": [
              "True"
            ]
          },
          "metadata": {},
          "execution_count": 4
        }
      ]
    },
    {
      "cell_type": "code",
      "source": [
        "import numpy as np\n",
        "C=np.array([[24,11],[32,18]])\n",
        "D=np.array([[14,12],[26,28]])\n",
        "print(\"Matrix C:\")\n",
        "print(C)\n",
        "\n",
        "print(\"Matrix D:\")\n",
        "print(D)"
      ],
      "metadata": {
        "id": "qAeY1WLRLkfB",
        "outputId": "bfe0b37c-18e0-4a6f-d744-30744350e8b9",
        "colab": {
          "base_uri": "https://localhost:8080/"
        }
      },
      "execution_count": 6,
      "outputs": [
        {
          "output_type": "stream",
          "name": "stdout",
          "text": [
            "Matrix C:\n",
            "[[24 11]\n",
            " [32 18]]\n",
            "Matrix D:\n",
            "[[14 12]\n",
            " [26 28]]\n"
          ]
        }
      ]
    },
    {
      "cell_type": "markdown",
      "source": [
        "## Exercises for Students (new version)\n",
        "\n",
        "For follwing matrices\n",
        "\n",
        "$$\n",
        "\\mathbf{A}=\n",
        "\\begin{pmatrix}\n",
        "1 & 2 \\\\\n",
        "3 & 4\n",
        "\\end{pmatrix}\n",
        "\\qquad\n",
        "\\mathbf{B}=\n",
        "\\begin{pmatrix}\n",
        "5 & 6 \\\\\n",
        "7 & 8\n",
        "\\end{pmatrix}\n",
        "\\quad\n",
        "\\mathbf{C}=\n",
        "\\begin{pmatrix}\n",
        "-1 & 2 \\\\\n",
        "3 & 0\n",
        "\\end{pmatrix}\n",
        "\\qquad\n",
        "\\mathbf{D}=\n",
        "\\begin{pmatrix}\n",
        "-1 & 2 & 3 \\\\\n",
        "4 & 0 & 6\n",
        "\\end{pmatrix}\n",
        "\\qquad\n",
        "\\mathbf{E}=\n",
        "\\begin{pmatrix}\n",
        "1 & 2\\\\\n",
        "4 & 5\\\\\n",
        "7 & 8\n",
        "\\end{pmatrix}\n",
        "$$\n",
        "\n",
        "1. Calculate: $\\mathbf{A}+\\mathbf{B}$;  $\\mathbf{B}-\\mathbf{A}$;  $\\mathbf{A}+\\mathbf{C}$; $\\mathbf{D}+\\mathbf{E}$.\n",
        "\n",
        "2. Calculate $\\frac{1}{2}\\mathbf{A}$, $2\\mathbf{B}$, $-3\\mathbf{C}$, and $4\\mathbf{D}$.\n",
        "\n",
        "3. Calculate the products $\\mathbf{A}\\cdot \\mathbf{B}$; $\\mathbf{B} \\cdot \\mathbf{A}$; $\\mathbf{A} \\cdot \\mathbf{D}$; $\\mathbf{D} \\cdot \\mathbf{E}$."
      ],
      "metadata": {
        "id": "zbEyhK_UtICm"
      }
    },
    {
      "cell_type": "markdown",
      "source": [
        "1. a) $A+B=\\begin{bmatrix} 1+5 & 2+6 \\\\ 3+ 7& 4+ 8\\end{bmatrix}=\\begin{bmatrix} 6&8\\\\10&12\\end{bmatrix}$\n",
        "\n",
        "\n",
        "1. b) $B-A=\\begin{bmatrix} 5-1 & 6-2 \\\\ 7-3 & 8-4 \\end{bmatrix}=\\begin{bmatrix} 4&4 \\\\4&4\\end{bmatrix}$\n",
        "\n",
        "\n",
        "1. c) $A+C=\\begin{bmatrix} 1-1 & 2+2 \\\\ 3+3 & 4+0 \\end{bmatrix}=\\begin{bmatrix} 0&2\\\\6&4\\end{bmatrix}$\n",
        "\n",
        "\n",
        "1. d) D+E are not the same dimension, you can't add two matrices if they don't have the same dimension."
      ],
      "metadata": {
        "id": "zwKPnMr4tMCf"
      }
    },
    {
      "cell_type": "markdown",
      "source": [
        "2. a) $\\frac{1}{2}\\mathbf{A}=\\frac{1}{2} \\begin{pmatrix} 1&2 \\\\ 3&4 \\end{pmatrix}=\\begin{pmatrix} \\frac{1}{2}*1 & \\frac{1}{2}*2 \\\\ \\frac{1}{2}*3 & \\frac{1}{2}*4\\end{pmatrix}=\\begin{pmatrix} \\frac{1}{2} & 1\\\\ \\frac{3}{2} &2\\end{pmatrix}$\n",
        "\n",
        "\n",
        "2. b) $2B=2\\begin{pmatrix} 5&6\\\\7&8\\end{pmatrix}=\\begin{pmatrix} 2*5 & 2*6 \\\\ 2*7&2*8\\end{pmatrix}=\\begin{pmatrix} 10&12\\\\14&16\\end{pmatrix}$\n",
        "\n",
        "\n",
        "2. c) $-3C=-3\\begin{pmatrix} -1&2\\\\3&0\\end{pmatrix}=\\begin{pmatrix} (-3)*(-1) & (-3)*2\\\\ (-3)*3 & (-3)*0\\end{pmatrix}=\\begin{pmatrix} 3&-6\\\\ -9&0\\end{pmatrix}$\n",
        "\n",
        "\n",
        "2. d) $4B=4\\begin{pmatrix} -1&2&3\\\\4&0&6\\end{pmatrix}=\\begin{pmatrix}4*(-1)&4*2&4*3\\\\4*4&4*0&4*6\\end{pmatrix}=\\begin{pmatrix} -4&8&12\\\\16&0&24\\end{pmatrix}$\n"
      ],
      "metadata": {
        "id": "juIS3l-btUXk"
      }
    },
    {
      "cell_type": "markdown",
      "source": [
        "3. a) $A⋅B=\\begin{bmatrix} 1&2 \\\\ 3&4 \\end{bmatrix} ⋅\\begin{bmatrix} 5&6 \\\\ 7&8 \\end{bmatrix}= \\begin{bmatrix} 1*5 + 2*7 & 1*6 + 2*8\\\\ 3*5 + 4*7 & 3*6 + 4*8 \\end{bmatrix}=\\begin{bmatrix} 5+12 & 6+16 \\\\ 15+28 & 18+32 \\end{bmatrix}=\\begin{bmatrix} 17 & 22\\\\ 43 &50 \\end{bmatrix}$\n",
        "\n",
        "\n",
        "3. b) $B⋅A=\\begin{bmatrix} 5&6 \\\\ 7&8 \\end{bmatrix} ⋅\\begin{bmatrix} 1&2 \\\\ 3&4 \\end{bmatrix}=\\begin{bmatrix} 5*1 + 6*3 & 5*2 + 6*4 \\\\ 7*1 + 8*3 & 7*2 + 8*4 \\end{bmatrix}=\\begin{bmatrix} 5+18 & 10+24 \\\\ 7+24 & 14+32 \\end{bmatrix}=\\begin{bmatrix} 23 & 32 \\\\ 31 & 46\\end{bmatrix}$\n",
        "\n",
        "\n",
        "3. c)$A⋅D=\\begin{bmatrix} 1&2\\\\3&4\\end{bmatrix} ⋅\\begin{bmatrix} -1&2&3\\\\4&0&6\\end{bmatrix}=\\begin{bmatrix} 1*(-1)+2*4 & 1*2+2*0 & 1*3+2*6 \\\\3*(-1)+4*4 & 3*2+4*0 & 3*3+4*6\\end{bmatrix}=\\begin{bmatrix} (-1)+8 & 2+0 & 3+12\\\\(-3)+16&6+0&9+24\\end{bmatrix}=\\begin{bmatrix} 7&2&15\\\\13&6&33\\end{bmatrix}$\n",
        "\n",
        "\n",
        "3. d) $D⋅E=\\begin{bmatrix} -1&2&3\\\\4&0&6\\end{bmatrix}⋅\\begin{bmatrix} 1&2\\\\4&5\\\\7&8\\end{bmatrix}=\\begin{bmatrix} -1*1+2*4+3*7&-1*2+2*5+3*8\\\\4*1+0*4+6*7&4*2+0*5+6*8\\end{bmatrix}=\\begin{bmatrix} -1+8+21&-2+10+24\\\\4+0+42&8+0+48\\end{bmatrix}=\\begin{bmatrix} 28&32\\\\46&56\\end{bmatrix}$"
      ],
      "metadata": {
        "id": "HTIgxzkctY2u"
      }
    }
  ],
  "metadata": {
    "colab": {
      "name": "Welcome To Colab",
      "toc_visible": true,
      "provenance": [],
      "include_colab_link": true
    },
    "kernelspec": {
      "display_name": "Python 3",
      "name": "python3"
    }
  },
  "nbformat": 4,
  "nbformat_minor": 0
}