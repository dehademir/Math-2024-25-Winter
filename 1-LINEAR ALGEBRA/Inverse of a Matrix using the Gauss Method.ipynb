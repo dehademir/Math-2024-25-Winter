{
  "cells": [
    {
      "cell_type": "markdown",
      "metadata": {
        "id": "view-in-github",
        "colab_type": "text"
      },
      "source": [
        "<a href=\"https://colab.research.google.com/github/dehademir/Math-2024-25-Winter/blob/main/Inverse%20of%20a%20Matrix%20using%20the%20Gauss%20Method.ipynb\" target=\"_parent\"><img src=\"https://colab.research.google.com/assets/colab-badge.svg\" alt=\"Open In Colab\"/></a>"
      ]
    },
    {
      "cell_type": "markdown",
      "source": [
        "---\n",
        "\n",
        "## Exercises for Students\n",
        "\n",
        "Find the inverse matrices using the Gauss method:\n",
        "\n",
        "$$\n",
        "A=\n",
        "\\begin{bmatrix}\n",
        "1 & 2\\\\\n",
        "3 & 4\n",
        "\\end{bmatrix}\n",
        ", \\qquad\n",
        "B=\n",
        "\\begin{bmatrix}\n",
        "1 & 2 & 3 \\\\\n",
        "4 & 5 & 1 \\\\\n",
        "2 & 3 & 2\n",
        "\\end{bmatrix}\n",
        ",\\qquad\n",
        "C=\n",
        "\\begin{bmatrix}\n",
        "0 & 0 & 1\\\\\n",
        "0 & 1 & 0\\\\\n",
        "1 & 0 & 0\n",
        "\\end{bmatrix}\n",
        "$$"
      ],
      "metadata": {
        "id": "g_i7l2Rtwahe"
      }
    },
    {
      "cell_type": "markdown",
      "source": [
        "##Solutions\n",
        "\n",
        "### Matrix $(A)$:\n",
        "$\n",
        "A =\n",
        "\\begin{bmatrix}\n",
        "1 & 2 \\\\\n",
        "3 & 4\n",
        "\\end{bmatrix}\n",
        "$\n",
        "\n",
        "### Steps:\n",
        "1. Subtract $(3\\times)$ (Row 1) from Row 2:\n",
        "   $\n",
        "   R_2 \\to R_2 - 3R_1\n",
        "   $\n",
        "   $\n",
        "   \\begin{bmatrix}\n",
        "   1 & 2 \\\\\n",
        "   0 & -2\n",
        "   \\end{bmatrix}\n",
        "   $\n",
        "\n",
        "2. Scale Row 2 by $( -\\frac{1}{2} )$:\n",
        "   $\n",
        "   R_2 \\to -\\frac{1}{2} R_2\n",
        "   $\n",
        "   $\n",
        "   \\begin{bmatrix}\n",
        "   1 & 2 \\\\\n",
        "   0 & 1\n",
        "   \\end{bmatrix}\n",
        "   $\n",
        "\n",
        "### Result:\n",
        "The row echelon form of $( A )$ is:\n",
        "$\n",
        "\\begin{bmatrix}\n",
        "1 & 2 \\\\\n",
        "0 & 1\n",
        "\\end{bmatrix}\n",
        "$\n",
        "\n",
        "---\n",
        "\n",
        "## Matrix $( B )$:\n",
        "$\n",
        "B =\n",
        "\\begin{bmatrix}\n",
        "1 & 2 & 3 \\\\\n",
        "4 & 5 & 1 \\\\\n",
        "2 & 3 & 2\n",
        "\\end{bmatrix}\n",
        "$\n",
        "\n",
        "### Steps:\n",
        "1. Subtract $( 4 \\times)$ (Row 1) from Row 2:\n",
        "   $\n",
        "   R_2 \\to R_2 - 4R_1\n",
        "   $\n",
        "   $\n",
        "   \\begin{bmatrix}\n",
        "   1 & 2 & 3 \\\\\n",
        "   0 & -3 & -11 \\\\\n",
        "   2 & 3 & 2\n",
        "   \\end{bmatrix}\n",
        "   $\n",
        "\n",
        "2. Subtract $( 2 \\times)$ (Row 1) from Row 3:\n",
        "   $\n",
        "   R_3 \\to R_3 - 2R_1\n",
        "   $\n",
        "   $\n",
        "   \\begin{bmatrix}\n",
        "   1 & 2 & 3 \\\\\n",
        "   0 & -3 & -11 \\\\\n",
        "   0 & -1 & -4\n",
        "   \\end{bmatrix}\n",
        "   $\n",
        "\n",
        "3. Divide Row 2 by $( -3)$:\n",
        "   $\n",
        "   R_2 \\to -\\frac{1}{3}R_2\n",
        "   $\n",
        "   $\n",
        "   \\begin{bmatrix}\n",
        "   1 & 2 & 3 \\\\\n",
        "   0 & 1 & \\frac{11}{3} \\\\\n",
        "   0 & -1 & -4\n",
        "   \\end{bmatrix}\n",
        "   $\n",
        "\n",
        "4. Add Row 2 to Row 3:\n",
        "   $\n",
        "   R_3 \\to R_3 + R_2\n",
        "   $\n",
        "   $\n",
        "   \\begin{bmatrix}\n",
        "   1 & 2 & 3 \\\\\n",
        "   0 & 1 & \\frac{11}{3} \\\\\n",
        "   0 & 0 & -\\frac{1}{3}\n",
        "   \\end{bmatrix}\n",
        "   $\n",
        "\n",
        "5. Multiply Row 3 by $( -3 )$:\n",
        "   $\n",
        "   R_3 \\to -3R_3\n",
        "   $\n",
        "   $\n",
        "   \\begin{bmatrix}\n",
        "   1 & 2 & 3 \\\\\n",
        "   0 & 1 & \\frac{11}{3} \\\\\n",
        "   0 & 0 & 1\n",
        "   \\end{bmatrix}\n",
        "   $\n",
        "\n",
        "### Result:\n",
        "The row echelon form of $( B )$ is:\n",
        "$\n",
        "\\begin{bmatrix}\n",
        "1 & 2 & 3 \\\\\n",
        "0 & 1 & \\frac{11}{3} \\\\\n",
        "0 & 0 & 1\n",
        "\\end{bmatrix}\n",
        "$\n",
        "\n",
        "---\n",
        "\n",
        "## Matrix $( C )$:\n",
        "$\n",
        "C =\n",
        "\\begin{bmatrix}\n",
        "0 & 0 & 1 \\\\\n",
        "0 & 1 & 0 \\\\\n",
        "1 & 0 & 0\n",
        "\\end{bmatrix}\n",
        "$\n",
        "\n",
        "### Steps:\n",
        "1. Swap Row 1 and Row 3:\n",
        "   $\n",
        "   R_1 \\leftrightarrow R_3\n",
        "   $\n",
        "   $\n",
        "   \\begin{bmatrix}\n",
        "   1 & 0 & 0 \\\\\n",
        "   0 & 1 & 0 \\\\\n",
        "   0 & 0 & 1\n",
        "   \\end{bmatrix}\n",
        "   $\n",
        "\n",
        "### Result:\n",
        "The row echelon form of $( C )$ is:\n",
        "$\n",
        "\\begin{bmatrix}\n",
        "1 & 0 & 0 \\\\\n",
        "0 & 1 & 0 \\\\\n",
        "0 & 0 & 1\n",
        "\\end{bmatrix}\n",
        "$\n",
        "\n",
        "---\n",
        "\n",
        "## Final Summary:\n",
        "1. Row echelon form of $( A )$:\n",
        "   $\n",
        "   \\begin{bmatrix}\n",
        "   1 & 2 \\\\\n",
        "   0 & 1\n",
        "   \\end{bmatrix}\n",
        "   $\n",
        "\n",
        "2. Row echelon form of $( B )$:\n",
        "   $\n",
        "   \\begin{bmatrix}\n",
        "   1 & 2 & 3 \\\\\n",
        "   0 & 1 & \\frac{11}{3} \\\\\n",
        "   0 & 0 & 1\n",
        "   \\end{bmatrix}\n",
        "   $\n",
        "\n",
        "3. Row echelon form of $( C )$:\n",
        "   $\n",
        "   \\begin{bmatrix}\n",
        "   1 & 0 & 0 \\\\\n",
        "   0 & 1 & 0 \\\\\n",
        "   0 & 0 & 1\n",
        "   \\end{bmatrix}\n",
        "   $"
      ],
      "metadata": {
        "id": "HCQGqzoPcZlB"
      }
    },
    {
      "cell_type": "code",
      "source": [
        "initial_matrix = [[1, 2], [3, 4]]\n",
        "m=InvertibleMatrix(initial_matrix)"
      ],
      "metadata": {
        "id": "naCSVL6SZ0oh",
        "outputId": "8664004b-019a-4dec-c494-da7a5c98cd3c",
        "colab": {
          "base_uri": "https://localhost:8080/",
          "height": 87
        }
      },
      "execution_count": 73,
      "outputs": [
        {
          "output_type": "display_data",
          "data": {
            "text/plain": [
              "<IPython.core.display.Markdown object>"
            ],
            "text/markdown": "**Initial Matrix (Starting matrix):**"
          },
          "metadata": {}
        },
        {
          "output_type": "display_data",
          "data": {
            "text/plain": [
              "<IPython.core.display.Math object>"
            ],
            "text/latex": "$\\displaystyle \n        \\left[\\begin{matrix}1 & 2\\\\3 & 4\\end{matrix}\\right] \n        \\quad\n        \\left[\\begin{matrix}1 & 0\\\\0 & 1\\end{matrix}\\right]\n        $"
          },
          "metadata": {}
        }
      ]
    },
    {
      "cell_type": "code",
      "source": [
        "import sympy as sp\n",
        "a=sp.Matrix([[1, 2], [3, 4]]) # create the initial matrix\n",
        "print(\"The invert matrix is:\")\n",
        "a.inv()"
      ],
      "metadata": {
        "id": "wBEkigxXZ2Zk",
        "outputId": "0a50595f-a343-4efc-dbec-475ae50a7c97",
        "colab": {
          "base_uri": "https://localhost:8080/",
          "height": 75
        }
      },
      "execution_count": 74,
      "outputs": [
        {
          "output_type": "stream",
          "name": "stdout",
          "text": [
            "The invert matrix is:\n"
          ]
        },
        {
          "output_type": "execute_result",
          "data": {
            "text/plain": [
              "Matrix([\n",
              "[ -2,    1],\n",
              "[3/2, -1/2]])"
            ],
            "text/latex": "$\\displaystyle \\left[\\begin{matrix}-2 & 1\\\\\\frac{3}{2} & - \\frac{1}{2}\\end{matrix}\\right]$"
          },
          "metadata": {},
          "execution_count": 74
        }
      ]
    },
    {
      "cell_type": "code",
      "source": [
        "initial_matrix = [[1, 2, 3], [4, 5, 1], [2, 3, 2]]\n",
        "m= InvertibleMatrix(initial_matrix)"
      ],
      "metadata": {
        "id": "r5Ftm6lfZ4q5",
        "outputId": "e5220eaa-5203-4cab-b4a1-ecd8db826558",
        "colab": {
          "base_uri": "https://localhost:8080/",
          "height": 107
        }
      },
      "execution_count": 75,
      "outputs": [
        {
          "output_type": "display_data",
          "data": {
            "text/plain": [
              "<IPython.core.display.Markdown object>"
            ],
            "text/markdown": "**Initial Matrix (Starting matrix):**"
          },
          "metadata": {}
        },
        {
          "output_type": "display_data",
          "data": {
            "text/plain": [
              "<IPython.core.display.Math object>"
            ],
            "text/latex": "$\\displaystyle \n        \\left[\\begin{matrix}1 & 2 & 3\\\\4 & 5 & 1\\\\2 & 3 & 2\\end{matrix}\\right] \n        \\quad\n        \\left[\\begin{matrix}1 & 0 & 0\\\\0 & 1 & 0\\\\0 & 0 & 1\\end{matrix}\\right]\n        $"
          },
          "metadata": {}
        }
      ]
    },
    {
      "cell_type": "code",
      "source": [
        "import  sympy as sp\n",
        "a=sp.Matrix([[1, 2, 3], [4, 5, 1], [2, 3, 2]]) # create the initial matrix\n",
        "print(\"The invert matrix is:\")\n",
        "a.inv()"
      ],
      "metadata": {
        "id": "e8EVbGJ1Z6Hk",
        "outputId": "3b5c1708-fec5-464c-defd-1f1ff083a185",
        "colab": {
          "base_uri": "https://localhost:8080/",
          "height": 95
        }
      },
      "execution_count": 76,
      "outputs": [
        {
          "output_type": "stream",
          "name": "stdout",
          "text": [
            "The invert matrix is:\n"
          ]
        },
        {
          "output_type": "execute_result",
          "data": {
            "text/plain": [
              "Matrix([\n",
              "[ 7,  5, -13],\n",
              "[-6, -4,  11],\n",
              "[ 2,  1,  -3]])"
            ],
            "text/latex": "$\\displaystyle \\left[\\begin{matrix}7 & 5 & -13\\\\-6 & -4 & 11\\\\2 & 1 & -3\\end{matrix}\\right]$"
          },
          "metadata": {},
          "execution_count": 76
        }
      ]
    },
    {
      "cell_type": "code",
      "source": [
        "initial_matrix=[[0,0,1],[0,1,0],[1,0,0]]\n",
        "m=InvertibleMatrix(initial_matrix)"
      ],
      "metadata": {
        "id": "E_Sc08jlZ7N6",
        "outputId": "cd99ae8e-b011-478c-f8ec-d2a543e18670",
        "colab": {
          "base_uri": "https://localhost:8080/",
          "height": 107
        }
      },
      "execution_count": 77,
      "outputs": [
        {
          "output_type": "display_data",
          "data": {
            "text/plain": [
              "<IPython.core.display.Markdown object>"
            ],
            "text/markdown": "**Initial Matrix (Starting matrix):**"
          },
          "metadata": {}
        },
        {
          "output_type": "display_data",
          "data": {
            "text/plain": [
              "<IPython.core.display.Math object>"
            ],
            "text/latex": "$\\displaystyle \n        \\left[\\begin{matrix}0 & 0 & 1\\\\0 & 1 & 0\\\\1 & 0 & 0\\end{matrix}\\right] \n        \\quad\n        \\left[\\begin{matrix}1 & 0 & 0\\\\0 & 1 & 0\\\\0 & 0 & 1\\end{matrix}\\right]\n        $"
          },
          "metadata": {}
        }
      ]
    },
    {
      "cell_type": "code",
      "source": [
        "import sympy as sp\n",
        "a=sp.Matrix([[0,0,1],[0,1,0],[1,0,0]]) # create the initial matrix\n",
        "print(\"The invert matrix is:\")\n",
        "a.inv()"
      ],
      "metadata": {
        "id": "wvC4l5H3Z9Cq",
        "outputId": "c78dfa3a-7ec6-4d97-da48-9a31f938db5f",
        "colab": {
          "base_uri": "https://localhost:8080/",
          "height": 95
        }
      },
      "execution_count": 78,
      "outputs": [
        {
          "output_type": "stream",
          "name": "stdout",
          "text": [
            "The invert matrix is:\n"
          ]
        },
        {
          "output_type": "execute_result",
          "data": {
            "text/plain": [
              "Matrix([\n",
              "[0, 0, 1],\n",
              "[0, 1, 0],\n",
              "[1, 0, 0]])"
            ],
            "text/latex": "$\\displaystyle \\left[\\begin{matrix}0 & 0 & 1\\\\0 & 1 & 0\\\\1 & 0 & 0\\end{matrix}\\right]$"
          },
          "metadata": {},
          "execution_count": 78
        }
      ]
    },
    {
      "cell_type": "markdown",
      "source": [
        "$\n",
        "A=\\begin{bmatrix} 1&2\\\\3&4\\end{bmatrix}\n",
        "$\n",
        "\n",
        "$A^{-1}=\\begin{bmatrix}1&2&1&0\\\\3&4&0&1\\end{bmatrix}$\n",
        "\n",
        "$R2-3R1=\\begin{bmatrix}1&2&1&0\\\\0&-2&&-3&1\\end{bmatrix}$\n",
        "\n",
        "\n",
        "$\\frac{-1}{2} R2= \\begin{bmatrix} 1&2&1&0\\\\0&1& \\frac{3}{2}& \\frac{-1}{2}\\end{bmatrix}$\n",
        "\n",
        "$R1-2R2=\\begin{bmatrix}1&0&-2&1\\\\0&1&\\frac{3}{2}&\\frac{-1}{2}\\end{bmatrix}$\n",
        "\n",
        "$A^{-1}=\\begin{bmatrix}-2&1\\\\ \\frac{3}{2}&\\frac{-1}{2}\\end{bmatrix}$"
      ],
      "metadata": {
        "id": "bV991U4Xwg5Y"
      }
    }
  ],
  "metadata": {
    "colab": {
      "name": "Welcome To Colab",
      "toc_visible": true,
      "provenance": [],
      "include_colab_link": true
    },
    "kernelspec": {
      "display_name": "Python 3",
      "name": "python3"
    }
  },
  "nbformat": 4,
  "nbformat_minor": 0
}