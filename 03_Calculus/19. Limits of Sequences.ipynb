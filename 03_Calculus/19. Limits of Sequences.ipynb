{
  "cells": [
    {
      "cell_type": "markdown",
      "metadata": {
        "id": "view-in-github",
        "colab_type": "text"
      },
      "source": [
        "<a href=\"https://colab.research.google.com/github/dehademir/Math-2024-25-Winter/blob/main/19.%20Limits%20of%20Sequences.ipynb\" target=\"_parent\"><img src=\"https://colab.research.google.com/assets/colab-badge.svg\" alt=\"Open In Colab\"/></a>"
      ]
    },
    {
      "cell_type": "code",
      "source": [
        "import sympy as sp\n",
        "\n",
        "n = sp.symbols('n')\n",
        "\n",
        "expr1 = (n**2 + 3*n) / (2*n**2 - 2*n)\n",
        "lim1 = sp.limit(expr1, n, sp.oo)\n",
        "print(f\"Limit 1: {lim1}\")\n",
        "\n",
        "expr2 = (2*n + 3) / (n**3 - 1)\n",
        "lim2 = sp.limit(expr2, n, sp.oo)\n",
        "print(f\"Limit 2: {lim2}\")\n",
        "\n",
        "expr3 = sp.sin(n) / n\n",
        "lim3 = sp.limit(expr3, n, sp.oo)\n",
        "print(f\"Squeeze theorem limit: {lim3}\")\n",
        "\n",
        "expr4 = (1 + 1/n)**n\n",
        "lim4 = sp.limit(expr4, n, sp.oo)\n",
        "print(f\"Limit of the sequence: {lim4}\")\n"
      ],
      "metadata": {
        "id": "6Pqttnvy0lhC",
        "outputId": "d0efa9a2-1382-44a6-9206-1c84526d2f54",
        "colab": {
          "base_uri": "https://localhost:8080/"
        }
      },
      "execution_count": 83,
      "outputs": [
        {
          "output_type": "stream",
          "name": "stdout",
          "text": [
            "Limit 1: 1/2\n",
            "Limit 2: 0\n",
            "Squeeze theorem limit: 0\n",
            "Limit of the sequence: E\n"
          ]
        }
      ]
    }
  ],
  "metadata": {
    "colab": {
      "name": "Welcome To Colab",
      "toc_visible": true,
      "provenance": [],
      "include_colab_link": true
    },
    "kernelspec": {
      "display_name": "Python 3",
      "name": "python3"
    }
  },
  "nbformat": 4,
  "nbformat_minor": 0
}