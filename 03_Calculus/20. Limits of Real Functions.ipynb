{
  "cells": [
    {
      "cell_type": "markdown",
      "metadata": {
        "id": "view-in-github",
        "colab_type": "text"
      },
      "source": [
        "<a href=\"https://colab.research.google.com/github/dehademir/Math-2024-25-Winter/blob/main/20.%20Limits%20of%20Real%20Functions.ipynb\" target=\"_parent\"><img src=\"https://colab.research.google.com/assets/colab-badge.svg\" alt=\"Open In Colab\"/></a>"
      ]
    },
    {
      "cell_type": "code",
      "source": [
        "import sympy as sp\n",
        "\n",
        "x = sp.symbols('x')\n",
        "\n",
        "expr1 = (x**3 + 2*x**2) / (x**4 - 3*x**3)\n",
        "lim1 = sp.limit(expr1, x, sp.oo)\n",
        "print(f\"Limit 1: {lim1}\")\n",
        "\n",
        "expr2 = sp.sin(3*x) / (2*x + 1)\n",
        "lim2 = sp.limit(expr2, x, 0)\n",
        "print(f\"Limit 2: {lim2}\")\n",
        "\n",
        "f_expr = (x**2 - 1) / (x**2 + 1)\n",
        "asymptotes_f = sp.simplify(f_expr)\n",
        "print(f\"Asymptotes for f(x): {asymptotes_f}\")\n",
        "\n",
        "g_expr = sp.sin(x) / (x**2 + 1)\n",
        "asymptotes_g = sp.simplify(g_expr)\n",
        "print(f\"Asymptotes for g(x): {asymptotes_g}\")\n"
      ],
      "metadata": {
        "id": "MWW46BEb8Zrc",
        "outputId": "58785ed6-9a02-4a4a-d9eb-b2739d1ea60f",
        "colab": {
          "base_uri": "https://localhost:8080/"
        }
      },
      "execution_count": 84,
      "outputs": [
        {
          "output_type": "stream",
          "name": "stdout",
          "text": [
            "Limit 1: 0\n",
            "Limit 2: 0\n",
            "Asymptotes for f(x): (x**2 - 1)/(x**2 + 1)\n",
            "Asymptotes for g(x): sin(x)/(x**2 + 1)\n"
          ]
        }
      ]
    }
  ],
  "metadata": {
    "colab": {
      "name": "Welcome To Colab",
      "toc_visible": true,
      "provenance": [],
      "include_colab_link": true
    },
    "kernelspec": {
      "display_name": "Python 3",
      "name": "python3"
    }
  },
  "nbformat": 4,
  "nbformat_minor": 0
}