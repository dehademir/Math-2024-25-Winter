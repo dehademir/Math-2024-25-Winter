{
  "cells": [
    {
      "cell_type": "markdown",
      "metadata": {
        "id": "view-in-github",
        "colab_type": "text"
      },
      "source": [
        "<a href=\"https://colab.research.google.com/github/dehademir/Math-2024-25-Winter/blob/main/4.%20Determinants%20from%20the%20Gauss%20Method%20and%20Triangular%20Matrices.ipynb\" target=\"_parent\"><img src=\"https://colab.research.google.com/assets/colab-badge.svg\" alt=\"Open In Colab\"/></a>"
      ]
    },
    {
      "cell_type": "code",
      "source": [
        "import numpy as np\n",
        "\n",
        "def row_operations_to_upper_triangular(matrix):\n",
        "    matrix = matrix.astype(float)\n",
        "    rows, cols = matrix.shape\n",
        "    for i in range(min(rows, cols)):\n",
        "        if matrix[i, i] != 0:\n",
        "            for j in range(i + 1, rows):\n",
        "                factor = matrix[j, i] / matrix[i, i]\n",
        "                matrix[j] -= factor * matrix[i]\n",
        "    return matrix\n",
        "\n",
        "A = np.array([[12, 3, -18], [-4, 0, 0]])\n",
        "B = np.array([[1, 2, 3], [4, 5, 6], [7, 8, 9]])\n",
        "\n",
        "A_upper = row_operations_to_upper_triangular(A.copy())\n",
        "B_upper = row_operations_to_upper_triangular(B.copy())\n",
        "\n",
        "det_A = np.prod(np.diagonal(A_upper))\n",
        "det_B = np.prod(np.diagonal(B_upper))\n",
        "\n",
        "print(\"Upper triangular form of A:\")\n",
        "print(A_upper)\n",
        "print(f\"det(A) = {det_A}\")\n",
        "\n",
        "print(\"Upper triangular form of B:\")\n",
        "print(B_upper)\n",
        "print(f\"det(B) = {det_B}\")\n"
      ],
      "metadata": {
        "id": "vOVWVI0xDZRX",
        "outputId": "919ed85c-eeb4-484b-8e4e-3470ab033942",
        "colab": {
          "base_uri": "https://localhost:8080/"
        }
      },
      "execution_count": 90,
      "outputs": [
        {
          "output_type": "stream",
          "name": "stdout",
          "text": [
            "Upper triangular form of A:\n",
            "[[ 12.   3. -18.]\n",
            " [  0.   1.  -6.]]\n",
            "det(A) = 12.0\n",
            "Upper triangular form of B:\n",
            "[[ 1.  2.  3.]\n",
            " [ 0. -3. -6.]\n",
            " [ 0.  0.  0.]]\n",
            "det(B) = -0.0\n"
          ]
        }
      ]
    }
  ],
  "metadata": {
    "colab": {
      "name": "Welcome To Colab",
      "toc_visible": true,
      "provenance": [],
      "include_colab_link": true
    },
    "kernelspec": {
      "display_name": "Python 3",
      "name": "python3"
    }
  },
  "nbformat": 4,
  "nbformat_minor": 0
}