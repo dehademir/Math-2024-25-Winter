{
  "cells": [
    {
      "cell_type": "markdown",
      "metadata": {
        "id": "view-in-github",
        "colab_type": "text"
      },
      "source": [
        "<a href=\"https://colab.research.google.com/github/dehademir/Math-2024-25-Winter/blob/main/16.%20Equations%20of%20planes%20in%20space.ipynb\" target=\"_parent\"><img src=\"https://colab.research.google.com/assets/colab-badge.svg\" alt=\"Open In Colab\"/></a>"
      ]
    },
    {
      "cell_type": "code",
      "source": [
        "import numpy as np\n",
        "import sympy as sp\n",
        "\n",
        "A = np.array([1, 2, 3])\n",
        "B = np.array([3, 4, 5])\n",
        "C = np.array([2, 1, 4])\n",
        "AB = B - A\n",
        "AC = C - A\n",
        "normal_vector = np.cross(AB, AC)\n",
        "d = -np.dot(normal_vector, A)\n",
        "print(f\"Plane equation: {normal_vector[0]}(x - {A[0]}) + {normal_vector[1]}(y - {A[1]}) + {normal_vector[2]}(z - {A[2]}) = 0\")\n",
        "\n",
        "normal_vector_parallel = np.array([2, 3, 4])\n",
        "d_parallel = -np.dot(normal_vector_parallel, A)\n",
        "print(f\"Plane equation: {normal_vector_parallel[0]}(x - {A[0]}) + {normal_vector_parallel[1]}(y - {A[1]}) + {normal_vector_parallel[2]}(z - {A[2]}) = 0\")\n",
        "\n",
        "normal_vector_perpendicular = np.array([2, 3, 4])\n",
        "d_perpendicular = -np.dot(normal_vector_perpendicular, A)\n",
        "print(f\"Plane equation: {normal_vector_perpendicular[0]}(x - {A[0]}) + {normal_vector_perpendicular[1]}(y - {A[1]}) + {normal_vector_perpendicular[2]}(z - {A[2]}) = 0\")\n",
        "\n",
        "x, y, z = sp.symbols('x y z')\n",
        "eq1 = sp.Eq(2*x + 3*y + 4*z, 5)\n",
        "eq2 = sp.Eq(3*x + 4*y + 2*z, 6)\n",
        "solution = sp.linsolve([eq1, eq2], x, y, z)\n",
        "print(f\"Intersection of planes: {solution}\")\n",
        "\n",
        "v1 = np.array([1, 0, 1])\n",
        "v2 = np.array([0, 1, -1])\n",
        "normal_vector_parallel_v1_v2 = np.cross(v1, v2)\n",
        "d_parallel_v1_v2 = -np.dot(normal_vector_parallel_v1_v2, A)\n",
        "print(f\"Plane equation: {normal_vector_parallel_v1_v2[0]}(x - {A[0]}) + {normal_vector_parallel_v1_v2[1]}(y - {A[1]}) + {normal_vector_parallel_v1_v2[2]}(z - {A[2]}) = 0\")\n",
        "\n",
        "normal_plane = np.array([2, 3, 4])\n",
        "print(f\"Parallel plane normal vector: {normal_plane}\")\n",
        "perpendicular_plane = np.array([1, 2, 3])\n",
        "print(f\"Perpendicular plane normal vector: {perpendicular_plane}\")\n"
      ],
      "metadata": {
        "id": "DTSb49okmyvg",
        "outputId": "8788b0c5-1713-40e4-80b0-bf1be4c72fa8",
        "colab": {
          "base_uri": "https://localhost:8080/"
        }
      },
      "execution_count": 77,
      "outputs": [
        {
          "output_type": "stream",
          "name": "stdout",
          "text": [
            "Plane equation: 4(x - 1) + 0(y - 2) + -4(z - 3) = 0\n",
            "Plane equation: 2(x - 1) + 3(y - 2) + 4(z - 3) = 0\n",
            "Plane equation: 2(x - 1) + 3(y - 2) + 4(z - 3) = 0\n",
            "Intersection of planes: {(10*z - 2, 3 - 8*z, z)}\n",
            "Plane equation: -1(x - 1) + 1(y - 2) + 1(z - 3) = 0\n",
            "Parallel plane normal vector: [2 3 4]\n",
            "Perpendicular plane normal vector: [1 2 3]\n"
          ]
        }
      ]
    }
  ],
  "metadata": {
    "colab": {
      "name": "Welcome To Colab",
      "toc_visible": true,
      "provenance": [],
      "include_colab_link": true
    },
    "kernelspec": {
      "display_name": "Python 3",
      "name": "python3"
    }
  },
  "nbformat": 4,
  "nbformat_minor": 0
}