{
  "cells": [
    {
      "cell_type": "markdown",
      "metadata": {
        "id": "view-in-github",
        "colab_type": "text"
      },
      "source": [
        "<a href=\"https://colab.research.google.com/github/dehademir/Math-2024-25-Winter/blob/main/6.%20Inverse%20of%20a%20Matrix%20using%20the%20Gauss%20Method.ipynb\" target=\"_parent\"><img src=\"https://colab.research.google.com/assets/colab-badge.svg\" alt=\"Open In Colab\"/></a>"
      ]
    },
    {
      "cell_type": "code",
      "source": [
        "import numpy as np\n",
        "\n",
        "A = np.array([[1, 2],\n",
        "              [3, 4]])\n",
        "\n",
        "augmented_matrix_A = np.hstack([A, np.eye(2)])\n",
        "\n",
        "rows, cols = augmented_matrix_A.shape\n",
        "\n",
        "for i in range(rows):\n",
        "    augmented_matrix_A[i] = augmented_matrix_A[i] / augmented_matrix_A[i, i]\n",
        "    for j in range(rows):\n",
        "        if j != i:\n",
        "            augmented_matrix_A[j] -= augmented_matrix_A[i] * augmented_matrix_A[j, i]\n",
        "\n",
        "A_inv = augmented_matrix_A[:, 2:]\n",
        "print(A_inv)\n",
        "\n"
      ],
      "metadata": {
        "id": "6eisDATjfX2m",
        "outputId": "c40ddd2b-d764-4949-c895-03af9217feb9",
        "colab": {
          "base_uri": "https://localhost:8080/"
        }
      },
      "execution_count": 56,
      "outputs": [
        {
          "output_type": "stream",
          "name": "stdout",
          "text": [
            "[[-2.   1. ]\n",
            " [ 1.5 -0.5]]\n"
          ]
        }
      ]
    },
    {
      "cell_type": "code",
      "source": [
        "B = np.array([[1, 2, 3],\n",
        "              [4, 5, 1],\n",
        "              [2, 3, 2]])\n",
        "\n",
        "augmented_matrix_B = np.hstack([B, np.eye(3)])\n",
        "\n",
        "rows, cols = augmented_matrix_B.shape\n",
        "\n",
        "for i in range(rows):\n",
        "    augmented_matrix_B[i] = augmented_matrix_B[i] / augmented_matrix_B[i, i]\n",
        "    for j in range(rows):\n",
        "        if j != i:\n",
        "            augmented_matrix_B[j] -= augmented_matrix_B[i] * augmented_matrix_B[j, i]\n",
        "\n",
        "B_inv = augmented_matrix_B[:, 3:]\n",
        "print(B_inv)\n"
      ],
      "metadata": {
        "id": "EttLhhLJhMJR",
        "outputId": "a94dc91f-c659-4791-8582-2ed2514e079b",
        "colab": {
          "base_uri": "https://localhost:8080/"
        }
      },
      "execution_count": 57,
      "outputs": [
        {
          "output_type": "stream",
          "name": "stdout",
          "text": [
            "[[  7.   5. -13.]\n",
            " [ -6.  -4.  11.]\n",
            " [  2.   1.  -3.]]\n"
          ]
        }
      ]
    }
  ],
  "metadata": {
    "colab": {
      "name": "Welcome To Colab",
      "toc_visible": true,
      "provenance": [],
      "include_colab_link": true
    },
    "kernelspec": {
      "display_name": "Python 3",
      "name": "python3"
    }
  },
  "nbformat": 4,
  "nbformat_minor": 0
}