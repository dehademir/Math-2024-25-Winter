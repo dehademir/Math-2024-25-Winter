{
  "cells": [
    {
      "cell_type": "markdown",
      "metadata": {
        "id": "view-in-github",
        "colab_type": "text"
      },
      "source": [
        "<a href=\"https://colab.research.google.com/github/dehademir/Math-2024-25-Winter/blob/main/14.%20Equations%20of%20lines%20on%20a%20plane.ipynb\" target=\"_parent\"><img src=\"https://colab.research.google.com/assets/colab-badge.svg\" alt=\"Open In Colab\"/></a>"
      ]
    },
    {
      "cell_type": "code",
      "source": [
        "import sympy as sp\n",
        "\n",
        "x, y = sp.symbols('x y')\n",
        "A = (1, 2)\n",
        "B = (3, 4)\n",
        "m = (B[1] - A[1]) / (B[0] - A[0])\n",
        "line_eq = sp.Eq(y - A[1], m * (x - A[0]))\n",
        "sp.simplify(line_eq)\n",
        "\n",
        "slope_parallel = 2\n",
        "line_parallel_eq = sp.Eq(y - A[1], slope_parallel * (x - A[0]))\n",
        "sp.simplify(line_parallel_eq)\n",
        "\n",
        "slope_perpendicular = -1 / 2\n",
        "line_perpendicular_eq = sp.Eq(y - A[1], slope_perpendicular * (x - A[0]))\n",
        "sp.simplify(line_perpendicular_eq)\n",
        "\n",
        "eq1 = sp.Eq(y, 2*x + 3)\n",
        "eq2 = sp.Eq(y, 3*x + 2)\n",
        "intersection = sp.solve([eq1, eq2], (x, y))\n",
        "intersection\n",
        "\n",
        "m1 = 2\n",
        "m2 = 3\n",
        "tan_theta = abs((m1 - m2) / (1 + m1 * m2))\n",
        "theta = sp.atan(tan_theta) * 180 / sp.pi\n",
        "theta\n",
        "\n",
        "slope_v = 3 / 2\n",
        "line_parallel_v_eq = sp.Eq(y - A[1], slope_v * (x - A[0]))\n",
        "sp.simplify(line_parallel_v_eq)\n",
        "\n",
        "parallel_line_eq = sp.Eq(y, 2*x + 5)\n",
        "perpendicular_line_eq = sp.Eq(y, -1/2 * x + 1)\n",
        "parallel_line_eq, perpendicular_line_eq\n",
        "\n",
        "A_point = (1, 2)\n",
        "line_eq2 = sp.Eq(2*x - y + 3, 0)\n",
        "distance = abs(2*A_point[0] - A_point[1] + 3) / sp.sqrt(2**2 + (-1)**2)\n",
        "distance\n",
        "\n",
        "m_line = (3 - 0) / (0 - 2)\n",
        "line_eq_2_points = sp.Eq(y - 0, m_line * (x - 2))\n",
        "sp.simplify(line_eq_2_points)\n",
        "\n",
        "m_line_angle = 1\n",
        "angle = sp.atan(m_line_angle) * 180 / sp.pi\n",
        "angle\n",
        "\n",
        "perpendicular_vector = sp.Matrix([1, 1])\n",
        "perpendicular_vector\n"
      ],
      "metadata": {
        "id": "C8bht3GulJQQ",
        "outputId": "b4c0b16b-3d4d-4f7a-88a8-016cda832421",
        "colab": {
          "base_uri": "https://localhost:8080/",
          "height": 58
        }
      },
      "execution_count": 73,
      "outputs": [
        {
          "output_type": "execute_result",
          "data": {
            "text/plain": [
              "Matrix([\n",
              "[1],\n",
              "[1]])"
            ],
            "text/latex": "$\\displaystyle \\left[\\begin{matrix}1\\\\1\\end{matrix}\\right]$"
          },
          "metadata": {},
          "execution_count": 73
        }
      ]
    }
  ],
  "metadata": {
    "colab": {
      "name": "Welcome To Colab",
      "toc_visible": true,
      "provenance": [],
      "include_colab_link": true
    },
    "kernelspec": {
      "display_name": "Python 3",
      "name": "python3"
    }
  },
  "nbformat": 4,
  "nbformat_minor": 0
}