{
  "cells": [
    {
      "cell_type": "markdown",
      "metadata": {
        "id": "view-in-github",
        "colab_type": "text"
      },
      "source": [
        "<a href=\"https://colab.research.google.com/github/dehademir/Math-2024-25-Winter/blob/main/15.%20Equations%20of%20second-order%20curves%20(conic%20sections).ipynb\" target=\"_parent\"><img src=\"https://colab.research.google.com/assets/colab-badge.svg\" alt=\"Open In Colab\"/></a>"
      ]
    },
    {
      "cell_type": "code",
      "source": [
        "import sympy as sp\n",
        "\n",
        "x, y = sp.symbols('x y')\n",
        "center = (1, 2)\n",
        "radius = 3\n",
        "circle_eq = sp.Eq((x - center[0])**2 + (y - center[1])**2, radius**2)\n",
        "circle_eq\n",
        "\n",
        "a, b, c = sp.symbols('a b c')\n",
        "eq1 = sp.Eq(a*2**2 + b*2 + c, 0)\n",
        "eq2 = sp.Eq(a*4**2 + b*4 + c, 0)\n",
        "eq3 = sp.Eq(a*3**2 + b*3 + c - 1, 0)\n",
        "parabola_eq = sp.solve([eq1, eq2, eq3], (a, b, c))\n",
        "parabola_eq\n",
        "\n",
        "ellipse_eq = x**2 + 4*y**2 - 4*x - 16*y + 16\n",
        "ellipse_center = sp.solve([sp.diff(ellipse_eq, x), sp.diff(ellipse_eq, y)], (x, y))\n",
        "ellipse_center\n",
        "\n",
        "m = sp.symbols('m')\n",
        "line_eq = y - m*x + 5\n",
        "circle_eq2 = x**2 + y**2 - 1\n",
        "tangent_condition = sp.solve([sp.Eq(line_eq, 0), circle_eq2], x)\n",
        "slope = sp.solve(tangent_condition, m)\n",
        "slope\n",
        "\n",
        "hyperbola_eq = x**2 - y**2 - 1\n",
        "ellipse_line_eq = x**2 + 4*y**2 - 6\n",
        "intersection_points = sp.solve([hyperbola_eq, ellipse_line_eq], (x, y))\n",
        "intersection_points\n",
        "\n",
        "hyperbola_eq2 = x**2 - y**2 - 1\n",
        "distance_branches = sp.solve(hyperbola_eq2, x)\n",
        "distance_branches\n"
      ],
      "metadata": {
        "id": "4M0g1Vt0l2hA",
        "outputId": "dfcaa455-f544-43a9-d08c-1e369f2e68ad",
        "colab": {
          "base_uri": "https://localhost:8080/"
        }
      },
      "execution_count": 74,
      "outputs": [
        {
          "output_type": "execute_result",
          "data": {
            "text/plain": [
              "[-sqrt(y**2 + 1), sqrt(y**2 + 1)]"
            ]
          },
          "metadata": {},
          "execution_count": 74
        }
      ]
    }
  ],
  "metadata": {
    "colab": {
      "name": "Welcome To Colab",
      "toc_visible": true,
      "provenance": [],
      "include_colab_link": true
    },
    "kernelspec": {
      "display_name": "Python 3",
      "name": "python3"
    }
  },
  "nbformat": 4,
  "nbformat_minor": 0
}