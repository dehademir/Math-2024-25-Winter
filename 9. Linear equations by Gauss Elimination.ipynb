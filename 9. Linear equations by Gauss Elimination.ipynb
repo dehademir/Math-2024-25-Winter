{
  "cells": [
    {
      "cell_type": "markdown",
      "metadata": {
        "id": "view-in-github",
        "colab_type": "text"
      },
      "source": [
        "<a href=\"https://colab.research.google.com/github/dehademir/Math-2024-25-Winter/blob/main/9.%20Linear%20equations%20by%20Gauss%20Elimination.ipynb\" target=\"_parent\"><img src=\"https://colab.research.google.com/assets/colab-badge.svg\" alt=\"Open In Colab\"/></a>"
      ]
    },
    {
      "cell_type": "code",
      "source": [
        "from sympy import symbols, Eq, solve\n",
        "\n",
        "x, y, z = symbols('x y z')\n",
        "\n",
        "eq1 = Eq(x + 2*y - 2*z, 4)\n",
        "eq2 = Eq(2*x + y + z, 0)\n",
        "eq3 = Eq(3*x + 2*y + z, 1)\n",
        "solution1 = solve((eq1, eq2, eq3), (x, y, z))\n",
        "print(solution1[x], solution1[y], solution1[z])\n"
      ],
      "metadata": {
        "id": "Dnp32cDbi0Pb",
        "outputId": "01deca39-9d52-415b-dadf-dea005f73184",
        "colab": {
          "base_uri": "https://localhost:8080/"
        }
      },
      "execution_count": 64,
      "outputs": [
        {
          "output_type": "stream",
          "name": "stdout",
          "text": [
            "0 1 -1\n"
          ]
        }
      ]
    },
    {
      "cell_type": "code",
      "source": [
        "t = symbols('t')\n",
        "\n",
        "eq1 = Eq(x + y + z - t, 2)\n",
        "eq2 = Eq(2*x + y + z, 3)\n",
        "eq3 = Eq(-x + z - t, 0)\n",
        "eq4 = Eq(3*x + 2*y - z + 2*t, -1)\n",
        "solution2 = solve((eq1, eq2, eq3, eq4), (x, y, z, t))\n",
        "print(solution2[x], solution2[y], solution2[z], solution2[t])\n"
      ],
      "metadata": {
        "id": "RldaMITNi6_P",
        "outputId": "efc8a50c-2afe-432f-886f-d9e0063b5896",
        "colab": {
          "base_uri": "https://localhost:8080/"
        }
      },
      "execution_count": 65,
      "outputs": [
        {
          "output_type": "stream",
          "name": "stdout",
          "text": [
            "2 -2 1 -1\n"
          ]
        }
      ]
    },
    {
      "cell_type": "code",
      "source": [
        "eq1 = Eq(x + y - z - t, 0)\n",
        "eq2 = Eq(2*x + 3*y - 2*z + t, 4)\n",
        "eq3 = Eq(3*x + 5*z, 0)\n",
        "eq4 = Eq(-x + y - 3*z + 2*t, 3)\n",
        "solution3 = solve((eq1, eq2, eq3, eq4), (x, y, z, t))\n",
        "print(solution3[x], solution3[y], solution3[z], solution3[t])\n"
      ],
      "metadata": {
        "id": "zWFYS3wwi9lt",
        "outputId": "844033e8-5a4d-4bc5-fbf6-d065ec55dfb8",
        "colab": {
          "base_uri": "https://localhost:8080/"
        }
      },
      "execution_count": 66,
      "outputs": [
        {
          "output_type": "stream",
          "name": "stdout",
          "text": [
            "0 1 0 1\n"
          ]
        }
      ]
    }
  ],
  "metadata": {
    "colab": {
      "name": "Welcome To Colab",
      "toc_visible": true,
      "provenance": [],
      "include_colab_link": true
    },
    "kernelspec": {
      "display_name": "Python 3",
      "name": "python3"
    }
  },
  "nbformat": 4,
  "nbformat_minor": 0
}